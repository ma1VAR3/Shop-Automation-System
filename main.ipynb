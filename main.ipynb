{
 "cells": [
  {
   "cell_type": "markdown",
   "id": "18fabe5f",
   "metadata": {},
   "source": [
    "# Imports"
   ]
  },
  {
   "cell_type": "code",
   "execution_count": 183,
   "id": "dc8132ad",
   "metadata": {},
   "outputs": [],
   "source": [
    "import os\n",
    "import matplotlib.pyplot as plt\n",
    "import numpy as np\n",
    "\n",
    "from keras.models import Sequential\n",
    "from keras.layers import Convolution2D, Conv2D\n",
    "from keras.layers import MaxPooling2D\n",
    "from keras.layers import Activation, Flatten\n",
    "from keras.layers import Dense, Dropout\n",
    "from keras.layers import BatchNormalization\n",
    "from keras.optimizers import SGD, Adam\n",
    "from keras.preprocessing import image\n",
    "from keras.preprocessing.image import ImageDataGenerator\n",
    "\n",
    "from keras.applications import ResNet50, InceptionV3, Xception"
   ]
  },
  {
   "cell_type": "markdown",
   "id": "0e86c93d",
   "metadata": {},
   "source": [
    "# Directories"
   ]
  },
  {
   "cell_type": "code",
   "execution_count": 184,
   "id": "feca6e43",
   "metadata": {},
   "outputs": [],
   "source": [
    "cwd = os.getcwd()\n",
    "train_dir = os.path.join(cwd,'Shopping Assistant','data', 'train')\n",
    "test_dir = os.path.join(cwd,'Shopping Assistant','data', 'test')"
   ]
  },
  {
   "cell_type": "markdown",
   "id": "d6f31875",
   "metadata": {},
   "source": [
    "# Utilities"
   ]
  },
  {
   "cell_type": "code",
   "execution_count": 185,
   "id": "c83de69f",
   "metadata": {},
   "outputs": [],
   "source": [
    "def getLabel(result):\n",
    "    if (result[0][0]==1):\n",
    "        outcome='burger'\n",
    "    elif(result[0][1]==1):\n",
    "        outcome='hotdog'\n",
    "    elif (result[0][2]==1):\n",
    "        outcome='ice_cream'\n",
    "    elif ( result[0][3]==1):\n",
    "        outcome='pizza'\n",
    "    else:\n",
    "        outcome='Unable to Determine'\n",
    "    return outcome\n",
    "    "
   ]
  },
  {
   "cell_type": "code",
   "execution_count": 186,
   "id": "a6e3f5d6",
   "metadata": {},
   "outputs": [],
   "source": [
    "def getFinalLabel(results):\n",
    "    labels = ['burger', 'hotdog', 'ice_cream', 'pizza', 'Unable to Determine']\n",
    "    predSet = set()\n",
    "    count = [0, 0, 0, 0, 0]\n",
    "    for i in range(4):\n",
    "        if(results[i] in labels):\n",
    "            predSet.add(results[i])\n",
    "            idx = labels.index(results[i])\n",
    "            count[idx] = count[idx] + 1\n",
    "            if(count[idx]>=2):\n",
    "                return results[i]\n",
    "            \n",
    "    return predSet[-1]\n",
    "        "
   ]
  },
  {
   "cell_type": "code",
   "execution_count": 187,
   "id": "50b8940f",
   "metadata": {},
   "outputs": [],
   "source": [
    "def getGroceries(label):\n",
    "    burgerGroceries = ['bread', 'tomato', 'potato', 'cheese']\n",
    "    burgerGroceriesId = [0, 5, 6, 1]\n",
    "    hotdogGroceries = ['bread', 'tomato', 'sausage', 'ketchup']\n",
    "    hotdogGroceriesId = [0, 5, 2, 3]\n",
    "    ice_creamGroceries = ['ice', 'cream', 'milk', 'chocolate']\n",
    "    ice_creamGroceriesId = [4, 7, 9, 8]\n",
    "    pizzaGroceries = ['bread', 'tomato', 'cheese', 'sausage']\n",
    "    pizzaGroceriesId = [0, 5, 1, 2]\n",
    "    if(label=='burger'):\n",
    "        return [burgerGroceries, burgerGroceriesId]\n",
    "    elif(label=='hotdog'):\n",
    "        return [hotdogGroceries, hotdogGroceriesId]\n",
    "    elif(label=='ice_cream'):\n",
    "        return [ice_creamGroceries, ice_creamGroceriesId]\n",
    "    elif(label=='pizza'):\n",
    "        return [pizzaGroceries, pizzaGroceriesId]\n",
    "    else:\n",
    "        return [['Nothing'], [0, 0, 0, 0]]"
   ]
  },
  {
   "cell_type": "markdown",
   "id": "0cb97f12",
   "metadata": {},
   "source": [
    "# Training Data Generation"
   ]
  },
  {
   "cell_type": "code",
   "execution_count": 188,
   "id": "9e2f1eb2",
   "metadata": {},
   "outputs": [
    {
     "name": "stdout",
     "output_type": "stream",
     "text": [
      "Found 851 images belonging to 4 classes.\n",
      "Found 58 images belonging to 4 classes.\n"
     ]
    }
   ],
   "source": [
    "train_datagen = ImageDataGenerator(\n",
    "        rescale=1./255,\n",
    "        shear_range=0.2,\n",
    "        zoom_range=0.2,\n",
    "        horizontal_flip=True)\n",
    "\n",
    "test_datagen = ImageDataGenerator(rescale=1./255)\n",
    "\n",
    "training_set = train_datagen.flow_from_directory(train_dir,\n",
    "                                                 target_size=(160, 160),\n",
    "                                                 batch_size=5,\n",
    "                                                 class_mode='categorical'\n",
    "                                                 #shuffle=True\n",
    "                                                )\n",
    "\n",
    "test_set = test_datagen.flow_from_directory(test_dir,\n",
    "                                            target_size=(160, 160),\n",
    "                                            batch_size=5,\n",
    "                                            class_mode='categorical'\n",
    "                                            #shuffle=True\n",
    "                                           ) "
   ]
  },
  {
   "cell_type": "markdown",
   "id": "cf858313",
   "metadata": {},
   "source": [
    "# Baseline Model"
   ]
  },
  {
   "cell_type": "code",
   "execution_count": 189,
   "id": "99fe7c93",
   "metadata": {},
   "outputs": [
    {
     "name": "stdout",
     "output_type": "stream",
     "text": [
      "Model: \"sequential_2\"\n",
      "_________________________________________________________________\n",
      "Layer (type)                 Output Shape              Param #   \n",
      "=================================================================\n",
      "conv2d_2354 (Conv2D)         (None, 160, 160, 32)      896       \n",
      "_________________________________________________________________\n",
      "batch_normalization_2357 (Ba (None, 160, 160, 32)      128       \n",
      "_________________________________________________________________\n",
      "max_pooling2d_131 (MaxPoolin (None, 80, 80, 32)        0         \n",
      "_________________________________________________________________\n",
      "conv2d_2355 (Conv2D)         (None, 80, 80, 64)        18496     \n",
      "_________________________________________________________________\n",
      "batch_normalization_2358 (Ba (None, 80, 80, 64)        256       \n",
      "_________________________________________________________________\n",
      "max_pooling2d_132 (MaxPoolin (None, 40, 40, 64)        0         \n",
      "_________________________________________________________________\n",
      "conv2d_2356 (Conv2D)         (None, 40, 40, 128)       73856     \n",
      "_________________________________________________________________\n",
      "batch_normalization_2359 (Ba (None, 40, 40, 128)       512       \n",
      "_________________________________________________________________\n",
      "max_pooling2d_133 (MaxPoolin (None, 20, 20, 128)       0         \n",
      "_________________________________________________________________\n",
      "flatten_2 (Flatten)          (None, 51200)             0         \n",
      "_________________________________________________________________\n",
      "dense_5 (Dense)              (None, 256)               13107456  \n",
      "_________________________________________________________________\n",
      "batch_normalization_2360 (Ba (None, 256)               1024      \n",
      "_________________________________________________________________\n",
      "dense_6 (Dense)              (None, 128)               32896     \n",
      "_________________________________________________________________\n",
      "batch_normalization_2361 (Ba (None, 128)               512       \n",
      "_________________________________________________________________\n",
      "dense_7 (Dense)              (None, 64)                8256      \n",
      "_________________________________________________________________\n",
      "batch_normalization_2362 (Ba (None, 64)                256       \n",
      "_________________________________________________________________\n",
      "dense_8 (Dense)              (None, 4)                 260       \n",
      "=================================================================\n",
      "Total params: 13,244,804\n",
      "Trainable params: 13,243,460\n",
      "Non-trainable params: 1,344\n",
      "_________________________________________________________________\n",
      "None\n"
     ]
    }
   ],
   "source": [
    "classifier = Sequential()\n",
    "\"\"\"\n",
    "# Layer 1 - Convolution\n",
    "classifier.add(Conv2D(32, kernel_size=5, strides=2, input_shape = (64, 64, 3), activation = 'relu'))\n",
    "\n",
    "# Layer 2 - Pooling\n",
    "classifier.add(MaxPooling2D(pool_size = (8, 8)))\n",
    "\n",
    "# Layer 3 convolutional layer\n",
    "classifier.add(Conv2D(32, (3, 3), activation = 'relu'))\n",
    "classifier.add(MaxPooling2D(pool_size = (2, 2)))\n",
    "\n",
    "# Layer 4 - Flattening\n",
    "classifier.add(Flatten())\n",
    "\n",
    "# Layer 5 - Full connection\n",
    "classifier.add(Dense(units = 128, activation = 'relu'))\n",
    "\n",
    "# Layer 6 - Output layer\n",
    "classifier.add(Dense(units = 8, activation = 'sigmoid'))\n",
    "\n",
    "# Compiling the CNN\n",
    "classifier.compile(optimizer = 'adam', loss = 'categorical_crossentropy', metrics = ['accuracy'])\n",
    "\"\"\"\n",
    "classifier.add(Conv2D(32,(3,3), activation='relu', input_shape=(160, 160,3), padding=\"same\"))\n",
    "classifier.add(BatchNormalization())\n",
    "classifier.add(MaxPooling2D(pool_size=(2, 2)))\n",
    "#classifier.add(Dropout(0.2))\n",
    "\n",
    "# classifier.add(Conv2D(64,(3,3), activation='relu', padding=\"same\"))\n",
    "# classifier.add(BatchNormalization())\n",
    "\n",
    "classifier.add(Conv2D(64,(3,3), activation='relu', padding=\"same\"))\n",
    "classifier.add(BatchNormalization())\n",
    "classifier.add(MaxPooling2D(pool_size=(2, 2)))\n",
    "#classifier.add(Dropout(0.2))\n",
    "\n",
    "classifier.add(Conv2D(128,(3,3), activation='relu', padding=\"same\"))\n",
    "classifier.add(BatchNormalization())\n",
    "classifier.add(MaxPooling2D(pool_size=(2, 2)))\n",
    "#classifier.add(Dropout(0.2))\n",
    "\n",
    "\n",
    "classifier.add(Flatten())\n",
    "\n",
    "classifier.add(Dense(256, activation='relu'))\n",
    "classifier.add(BatchNormalization())\n",
    "#classifier.add(Dropout(0.15))\n",
    "\n",
    "classifier.add(Dense(128, activation='relu'))\n",
    "classifier.add(BatchNormalization())\n",
    "#classifier.add(Dropout(0.15))\n",
    "\n",
    "classifier.add(Dense(64, activation='relu'))\n",
    "classifier.add(BatchNormalization())\n",
    "#classifier.add(Dropout(0.15))\n",
    "\n",
    "classifier.add(Dense(4, activation = 'softmax'))\n",
    "\n",
    "opt = Adam(learning_rate=0.01)\n",
    "classifier.compile(optimizer = opt, loss = 'categorical_crossentropy', metrics = ['accuracy'])\n",
    "\n",
    "print(classifier.summary())"
   ]
  },
  {
   "cell_type": "markdown",
   "id": "0f87ef34",
   "metadata": {},
   "source": [
    "# Training Model"
   ]
  },
  {
   "cell_type": "code",
   "execution_count": 6,
   "id": "f01d1330",
   "metadata": {},
   "outputs": [
    {
     "name": "stdout",
     "output_type": "stream",
     "text": [
      "Epoch 1/40\n",
      "33/32 [==============================] - 18s 560ms/step - loss: 1.7552 - accuracy: 0.2667 - val_loss: 53.2826 - val_accuracy: 0.2551\n",
      "Epoch 2/40\n",
      "33/32 [==============================] - 18s 560ms/step - loss: 1.5391 - accuracy: 0.2848 - val_loss: 3.8633 - val_accuracy: 0.1562\n",
      "Epoch 3/40\n",
      "33/32 [==============================] - 18s 556ms/step - loss: 1.4197 - accuracy: 0.3602 - val_loss: 2.3116 - val_accuracy: 0.1875\n",
      "Epoch 4/40\n",
      "33/32 [==============================] - 19s 568ms/step - loss: 1.4343 - accuracy: 0.3091 - val_loss: 0.8469 - val_accuracy: 0.5612\n",
      "Epoch 5/40\n",
      "33/32 [==============================] - 18s 556ms/step - loss: 1.3057 - accuracy: 0.4061 - val_loss: 1.1568 - val_accuracy: 0.4375\n",
      "Epoch 6/40\n",
      "33/32 [==============================] - 19s 561ms/step - loss: 1.4131 - accuracy: 0.3697 - val_loss: 1.4754 - val_accuracy: 0.4271\n",
      "Epoch 7/40\n",
      "33/32 [==============================] - 18s 554ms/step - loss: 1.3334 - accuracy: 0.3758 - val_loss: 1.4098 - val_accuracy: 0.3367\n",
      "Epoch 8/40\n",
      "33/32 [==============================] - 18s 560ms/step - loss: 1.2377 - accuracy: 0.4303 - val_loss: 1.0394 - val_accuracy: 0.4896\n",
      "Epoch 9/40\n",
      "33/32 [==============================] - 18s 551ms/step - loss: 1.4503 - accuracy: 0.3212 - val_loss: 1.4524 - val_accuracy: 0.5208\n",
      "Epoch 10/40\n",
      "33/32 [==============================] - 18s 547ms/step - loss: 1.3122 - accuracy: 0.3727 - val_loss: 1.9614 - val_accuracy: 0.2857\n",
      "Epoch 11/40\n",
      "33/32 [==============================] - 19s 566ms/step - loss: 1.3049 - accuracy: 0.4242 - val_loss: 1.4245 - val_accuracy: 0.3438\n",
      "Epoch 12/40\n",
      "33/32 [==============================] - 20s 606ms/step - loss: 1.2660 - accuracy: 0.4161 - val_loss: 1.1315 - val_accuracy: 0.4792\n",
      "Epoch 13/40\n",
      "33/32 [==============================] - 19s 586ms/step - loss: 1.2687 - accuracy: 0.4727 - val_loss: 0.9269 - val_accuracy: 0.5000\n",
      "Epoch 14/40\n",
      "33/32 [==============================] - 19s 571ms/step - loss: 1.3230 - accuracy: 0.4364 - val_loss: 0.7034 - val_accuracy: 0.5312\n",
      "Epoch 15/40\n",
      "33/32 [==============================] - 18s 554ms/step - loss: 1.1576 - accuracy: 0.4848 - val_loss: 1.1523 - val_accuracy: 0.6458\n",
      "Epoch 16/40\n",
      "33/32 [==============================] - 18s 549ms/step - loss: 1.2025 - accuracy: 0.4788 - val_loss: 0.6116 - val_accuracy: 0.6939\n",
      "Epoch 17/40\n",
      "33/32 [==============================] - 19s 571ms/step - loss: 1.2266 - accuracy: 0.4545 - val_loss: 1.4479 - val_accuracy: 0.5938\n",
      "Epoch 18/40\n",
      "33/32 [==============================] - 18s 556ms/step - loss: 1.1956 - accuracy: 0.4788 - val_loss: 1.7022 - val_accuracy: 0.4271\n",
      "Epoch 19/40\n",
      "33/32 [==============================] - 18s 546ms/step - loss: 1.1677 - accuracy: 0.5217 - val_loss: 1.0718 - val_accuracy: 0.5102\n",
      "Epoch 20/40\n",
      "33/32 [==============================] - 19s 571ms/step - loss: 1.2188 - accuracy: 0.4788 - val_loss: 2.1100 - val_accuracy: 0.2917\n",
      "Epoch 21/40\n",
      "33/32 [==============================] - 18s 552ms/step - loss: 1.1585 - accuracy: 0.5273 - val_loss: 1.0471 - val_accuracy: 0.6354\n",
      "Epoch 22/40\n",
      "33/32 [==============================] - 18s 560ms/step - loss: 1.0221 - accuracy: 0.5879 - val_loss: 3.8392 - val_accuracy: 0.2959\n",
      "Epoch 23/40\n",
      "33/32 [==============================] - 18s 552ms/step - loss: 1.3185 - accuracy: 0.4037 - val_loss: 1.5328 - val_accuracy: 0.3125\n",
      "Epoch 24/40\n",
      "33/32 [==============================] - 18s 557ms/step - loss: 1.2294 - accuracy: 0.5030 - val_loss: 1.6240 - val_accuracy: 0.4271\n",
      "Epoch 25/40\n",
      "33/32 [==============================] - 18s 560ms/step - loss: 1.1537 - accuracy: 0.4970 - val_loss: 1.4742 - val_accuracy: 0.5612\n",
      "Epoch 26/40\n",
      "33/32 [==============================] - 18s 558ms/step - loss: 1.1407 - accuracy: 0.5576 - val_loss: 1.2475 - val_accuracy: 0.3438\n",
      "Epoch 27/40\n",
      "33/32 [==============================] - 18s 555ms/step - loss: 1.1786 - accuracy: 0.5394 - val_loss: 2.9395 - val_accuracy: 0.3958\n",
      "Epoch 28/40\n",
      "33/32 [==============================] - 19s 572ms/step - loss: 1.2233 - accuracy: 0.4848 - val_loss: 2.6692 - val_accuracy: 0.2857\n",
      "Epoch 29/40\n",
      "33/32 [==============================] - 18s 557ms/step - loss: 1.1795 - accuracy: 0.4667 - val_loss: 1.1807 - val_accuracy: 0.5625\n",
      "Epoch 30/40\n",
      "33/32 [==============================] - 18s 552ms/step - loss: 1.2022 - accuracy: 0.4534 - val_loss: 0.6622 - val_accuracy: 0.4896\n",
      "Epoch 31/40\n",
      "33/32 [==============================] - 19s 561ms/step - loss: 1.1435 - accuracy: 0.5273 - val_loss: 1.0722 - val_accuracy: 0.6327\n",
      "Epoch 32/40\n",
      "33/32 [==============================] - 18s 558ms/step - loss: 1.0898 - accuracy: 0.5455 - val_loss: 0.9336 - val_accuracy: 0.4583\n",
      "Epoch 33/40\n",
      "33/32 [==============================] - 18s 554ms/step - loss: 1.1288 - accuracy: 0.5152 - val_loss: 0.6199 - val_accuracy: 0.6667\n",
      "Epoch 34/40\n",
      "33/32 [==============================] - 18s 549ms/step - loss: 1.0938 - accuracy: 0.5697 - val_loss: 0.7866 - val_accuracy: 0.5510\n",
      "Epoch 35/40\n",
      "33/32 [==============================] - 18s 553ms/step - loss: 1.2320 - accuracy: 0.4783 - val_loss: 4.4406 - val_accuracy: 0.3125\n",
      "Epoch 36/40\n",
      "33/32 [==============================] - 18s 553ms/step - loss: 1.1890 - accuracy: 0.4909 - val_loss: 0.8303 - val_accuracy: 0.4583\n",
      "Epoch 37/40\n",
      "33/32 [==============================] - 18s 555ms/step - loss: 1.1453 - accuracy: 0.4970 - val_loss: 0.7357 - val_accuracy: 0.6224\n",
      "Epoch 38/40\n",
      "33/32 [==============================] - 19s 561ms/step - loss: 1.1730 - accuracy: 0.5091 - val_loss: 1.3458 - val_accuracy: 0.5208\n",
      "Epoch 39/40\n",
      "33/32 [==============================] - 18s 550ms/step - loss: 1.1925 - accuracy: 0.5091 - val_loss: 1.7234 - val_accuracy: 0.6146\n",
      "Epoch 40/40\n",
      "33/32 [==============================] - 18s 551ms/step - loss: 1.1147 - accuracy: 0.4848 - val_loss: 0.8237 - val_accuracy: 0.6429\n"
     ]
    }
   ],
   "source": [
    "history=classifier.fit_generator(\n",
    "        training_set,\n",
    "        steps_per_epoch=161/5, \n",
    "        epochs=40,\n",
    "        validation_data=test_set,\n",
    "        validation_steps=20)"
   ]
  },
  {
   "cell_type": "code",
   "execution_count": 7,
   "id": "4da25320",
   "metadata": {},
   "outputs": [
    {
     "data": {
      "image/png": "[encoded data removed]",
      "text/plain": [
       "<Figure size 432x288 with 1 Axes>"
      ]
     },
     "metadata": {
      "needs_background": "light"
     },
     "output_type": "display_data"
    }
   ],
   "source": [
    "plt.plot(history.history['accuracy'])\n",
    "plt.plot(history.history['val_accuracy'])\n",
    "plt.title('model accuracy')\n",
    "plt.ylabel('accuracy')\n",
    "plt.xlabel('epoch')\n",
    "plt.legend(['train', 'test'], loc='upper left')\n",
    "plt.show()"
   ]
  },
  {
   "cell_type": "code",
   "execution_count": 8,
   "id": "4bda14d6",
   "metadata": {},
   "outputs": [],
   "source": [
    "save_dir = os.path.join(cwd,'Shopping Assistant','models','baselineCNN.h5')\n",
    "classifier.save(save_dir)"
   ]
  },
  {
   "cell_type": "markdown",
   "id": "f1cbbb0b",
   "metadata": {},
   "source": [
    "# Test Image"
   ]
  },
  {
   "cell_type": "code",
   "execution_count": 190,
   "id": "51555e80",
   "metadata": {},
   "outputs": [],
   "source": [
    "test_img_dir = os.path.join(test_dir, 'pizza', '1.jpg')"
   ]
  },
  {
   "cell_type": "markdown",
   "id": "288acc92",
   "metadata": {},
   "source": [
    "# BaseLine Prediction"
   ]
  },
  {
   "cell_type": "code",
   "execution_count": 191,
   "id": "517e3ded",
   "metadata": {},
   "outputs": [
    {
     "name": "stdout",
     "output_type": "stream",
     "text": [
      "Predicted: ice_cream\n"
     ]
    }
   ],
   "source": [
    "test_img = image.load_img(test_img_dir, target_size = (160, 160))\n",
    "test_img = image.img_to_array(test_img)\n",
    "test_img = np.expand_dims(test_img, axis=0)\n",
    "\n",
    "result = classifier.predict(test_img)\n",
    "BaseLinePred = getLabel(result)\n",
    "print('Predicted:', BaseLinePred)"
   ]
  },
  {
   "cell_type": "markdown",
   "id": "0f00c475",
   "metadata": {},
   "source": [
    "# Resnet50 Prediction"
   ]
  },
  {
   "cell_type": "code",
   "execution_count": 192,
   "id": "80c8f656",
   "metadata": {},
   "outputs": [
    {
     "name": "stdout",
     "output_type": "stream",
     "text": [
      "Predicted: pizza\n"
     ]
    }
   ],
   "source": [
    "from keras.applications.resnet50 import preprocess_input, decode_predictions\n",
    "\n",
    "resnet50 = ResNet50(weights='imagenet')\n",
    "img = image.load_img(test_img_dir, target_size=(224, 224))\n",
    "x = image.img_to_array(img)\n",
    "x = np.expand_dims(x, axis=0)\n",
    "x = preprocess_input(x)\n",
    "\n",
    "ResNetPred = resnet50.predict(x)\n",
    "ResNetPred = decode_predictions(ResNetPred, top=1)[0][0][1]\n",
    "print('Predicted:', ResNetPred)"
   ]
  },
  {
   "cell_type": "markdown",
   "id": "09c8e8f3",
   "metadata": {},
   "source": [
    "# InceptionV3 Prediction"
   ]
  },
  {
   "cell_type": "code",
   "execution_count": 196,
   "id": "203f519d",
   "metadata": {},
   "outputs": [
    {
     "name": "stdout",
     "output_type": "stream",
     "text": [
      "Predicted: pizza\n"
     ]
    }
   ],
   "source": [
    "from keras.applications.inception_v3 import preprocess_input, decode_predictions\n",
    "\n",
    "inceptionV3 = InceptionV3(weights='imagenet')\n",
    "img = image.load_img(test_img_dir, target_size=(299, 299))\n",
    "x = image.img_to_array(img)\n",
    "x = np.expand_dims(x, axis=0)\n",
    "x = preprocess_input(x)\n",
    "\n",
    "InceptionPred = inceptionV3.predict(x)\n",
    "InceptionPred = decode_predictions(InceptionPred, top=1)[0][0][1]\n",
    "print('Predicted:', InceptionPred)"
   ]
  },
  {
   "cell_type": "markdown",
   "id": "1e912a98",
   "metadata": {},
   "source": [
    "# Xception Prediction"
   ]
  },
  {
   "cell_type": "code",
   "execution_count": 197,
   "id": "a8f6809f",
   "metadata": {},
   "outputs": [
    {
     "name": "stdout",
     "output_type": "stream",
     "text": [
      "Predicted: pizza\n"
     ]
    }
   ],
   "source": [
    "from keras.applications.xception import preprocess_input, decode_predictions\n",
    "\n",
    "xception = InceptionV3(weights='imagenet')\n",
    "img = image.load_img(test_img_dir, target_size=(299, 299))\n",
    "x = image.img_to_array(img)\n",
    "x = np.expand_dims(x, axis=0)\n",
    "x = preprocess_input(x)\n",
    "\n",
    "XceptionPred = xception.predict(x)\n",
    "XceptionPred = decode_predictions(XceptionPred, top=1)[0][0][1]\n",
    "print('Predicted:', XceptionPred)"
   ]
  },
  {
   "cell_type": "markdown",
   "id": "a1340a45",
   "metadata": {},
   "source": [
    "# Getting best prediction, groceries and their ids"
   ]
  },
  {
   "cell_type": "code",
   "execution_count": 198,
   "id": "58418dfd",
   "metadata": {},
   "outputs": [
    {
     "name": "stdout",
     "output_type": "stream",
     "text": [
      "Food Item Detected:  pizza\n",
      "Groceries required: \n",
      "1   bread\n",
      "2   tomato\n",
      "3   cheese\n",
      "4   sausage\n",
      "Groceries ids:  [0, 5, 1, 2]\n"
     ]
    }
   ],
   "source": [
    "results = [BaseLinePred, ResNetPred, InceptionPred, XceptionPred]\n",
    "finalPrediction = getFinalLabel(results)\n",
    "groceries = getGroceries(finalPrediction)\n",
    "groceriesLabels = groceries[0]\n",
    "groceriesIds = groceries[1]\n",
    "print('Food Item Detected: ', finalPrediction)\n",
    "print('Groceries required: ')\n",
    "for i in range(4):\n",
    "    print(i+1,' ',groceriesLabels[i])\n",
    "print('Groceries ids: ', groceriesIds)"
   ]
  },
  {
   "cell_type": "markdown",
   "id": "afb45e82",
   "metadata": {},
   "source": [
    "# Pathfinding"
   ]
  },
  {
   "cell_type": "code",
   "execution_count": null,
   "id": "f353143f",
   "metadata": {},
   "outputs": [],
   "source": []
  }
 ],
 "metadata": {
  "kernelspec": {
   "display_name": "Python 3",
   "language": "python",
   "name": "python3"
  },
  "language_info": {
   "codemirror_mode": {
    "name": "ipython",
    "version": 3
   },
   "file_extension": ".py",
   "mimetype": "text/x-python",
   "name": "python",
   "nbconvert_exporter": "python",
   "pygments_lexer": "ipython3",
   "version": "3.6.13"
  }
 },
 "nbformat": 4,
 "nbformat_minor": 5
}
