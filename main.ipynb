{
 "cells": [
  {
   "cell_type": "markdown",
   "id": "f273d84d",
   "metadata": {},
   "source": [
    "# Imports"
   ]
  },
  {
   "cell_type": "code",
   "execution_count": 61,
   "id": "dc8132ad",
   "metadata": {},
   "outputs": [],
   "source": [
    "import os\n",
    "from sys import maxsize\n",
    "import matplotlib.pyplot as plt\n",
    "import numpy as np\n",
    "import networkx as nx\n",
    "\n",
    "from keras.models import Sequential, load_model\n",
    "from keras.layers import Convolution2D, Conv2D\n",
    "from keras.layers import MaxPooling2D\n",
    "from keras.layers import Activation, Flatten\n",
    "from keras.layers import Dense, Dropout\n",
    "from keras.layers import BatchNormalization\n",
    "from keras.optimizers import SGD, Adam\n",
    "from keras.preprocessing import image\n",
    "from keras.preprocessing.image import ImageDataGenerator\n",
    "from keras.callbacks import EarlyStopping, ModelCheckpoint\n",
    "\n",
    "from keras.applications import ResNet50, InceptionV3, Xception"
   ]
  },
  {
   "cell_type": "markdown",
   "id": "0e86c93d",
   "metadata": {},
   "source": [
    "# Directories"
   ]
  },
  {
   "cell_type": "code",
   "execution_count": 25,
   "id": "feca6e43",
   "metadata": {},
   "outputs": [],
   "source": [
    "cwd = os.getcwd()\n",
    "train_dir = os.path.join(cwd,'Shopping Assistant','data', 'train')\n",
    "test_dir = os.path.join(cwd,'Shopping Assistant','data', 'test')\n",
    "model_dir = os.path.join(cwd,'Shopping Assistant','models','baselineCNN.h5')"
   ]
  },
  {
   "cell_type": "markdown",
   "id": "d6f31875",
   "metadata": {},
   "source": [
    "# Utilities"
   ]
  },
  {
   "cell_type": "code",
   "execution_count": 43,
   "id": "c83de69f",
   "metadata": {},
   "outputs": [],
   "source": [
    "def getLabel(result):\n",
    "    if (result[0][0]==1):\n",
    "        outcome='cheeseburger'\n",
    "    elif(result[0][1]==1):\n",
    "        outcome='hotdog'\n",
    "    elif (result[0][2]==1):\n",
    "        outcome='ice_cream'\n",
    "    elif ( result[0][3]==1):\n",
    "        outcome='pizza'\n",
    "    else:\n",
    "        outcome='Unable to Determine'\n",
    "    return outcome\n",
    "    "
   ]
  },
  {
   "cell_type": "code",
   "execution_count": 44,
   "id": "cf6a9399",
   "metadata": {},
   "outputs": [],
   "source": [
    "def getFinalLabel(results):\n",
    "    labels = ['cheeseburger', 'hotdog', 'ice_cream', 'pizza', 'Unable to Determine']\n",
    "    predSet = set()\n",
    "    count = [0, 0, 0, 0, 0]\n",
    "    for i in range(4):\n",
    "        if(results[i] in labels):\n",
    "            predSet.add(results[i])\n",
    "            idx = labels.index(results[i])\n",
    "            count[idx] = count[idx] + 1\n",
    "            if(count[idx]>=2):\n",
    "                return results[i]\n",
    "            \n",
    "    return predSet[-1]\n",
    "        "
   ]
  },
  {
   "cell_type": "code",
   "execution_count": 45,
   "id": "e18f197c",
   "metadata": {},
   "outputs": [],
   "source": [
    "def getGroceries(label):\n",
    "    burgerGroceries = ['bread', 'tomato', 'potato', 'cheese']\n",
    "    burgerGroceriesId = [0, 5, 6, 1]\n",
    "    hotdogGroceries = ['bread', 'tomato', 'sausage', 'ketchup']\n",
    "    hotdogGroceriesId = [0, 5, 2, 3]\n",
    "    ice_creamGroceries = ['ice', 'cream', 'milk', 'chocolate']\n",
    "    ice_creamGroceriesId = [4, 7, 9, 8]\n",
    "    pizzaGroceries = ['bread', 'tomato', 'cheese', 'sausage']\n",
    "    pizzaGroceriesId = [0, 5, 1, 2]\n",
    "    if(label=='cheeseburger'):\n",
    "        return [burgerGroceries, burgerGroceriesId]\n",
    "    elif(label=='hotdog'):\n",
    "        return [hotdogGroceries, hotdogGroceriesId]\n",
    "    elif(label=='ice_cream'):\n",
    "        return [ice_creamGroceries, ice_creamGroceriesId]\n",
    "    elif(label=='pizza'):\n",
    "        return [pizzaGroceries, pizzaGroceriesId]\n",
    "    else:\n",
    "        return [['Nothing'], [0, 0, 0, 0]]"
   ]
  },
  {
   "cell_type": "markdown",
   "id": "0cb97f12",
   "metadata": {},
   "source": [
    "# Training Data Generation"
   ]
  },
  {
   "cell_type": "code",
   "execution_count": 29,
   "id": "9e2f1eb2",
   "metadata": {},
   "outputs": [
    {
     "name": "stdout",
     "output_type": "stream",
     "text": [
      "Found 851 images belonging to 4 classes.\n",
      "Found 58 images belonging to 4 classes.\n"
     ]
    }
   ],
   "source": [
    "train_datagen = ImageDataGenerator(\n",
    "        rescale=1./255,\n",
    "        shear_range=0.2,\n",
    "        zoom_range=0.2,\n",
    "        horizontal_flip=True)\n",
    "\n",
    "test_datagen = ImageDataGenerator(rescale=1./255)\n",
    "\n",
    "training_set = train_datagen.flow_from_directory(train_dir,\n",
    "                                                 target_size=(180, 180),\n",
    "                                                 batch_size=5,\n",
    "                                                 class_mode='categorical',\n",
    "                                                 shuffle=True\n",
    "                                                )\n",
    "\n",
    "test_set = test_datagen.flow_from_directory(test_dir,\n",
    "                                            target_size=(180, 180),\n",
    "                                            batch_size=5,\n",
    "                                            class_mode='categorical',\n",
    "                                            shuffle=True\n",
    "                                           ) "
   ]
  },
  {
   "cell_type": "markdown",
   "id": "cf858313",
   "metadata": {},
   "source": [
    "# Baseline Model"
   ]
  },
  {
   "cell_type": "code",
   "execution_count": 30,
   "id": "99fe7c93",
   "metadata": {},
   "outputs": [
    {
     "name": "stdout",
     "output_type": "stream",
     "text": [
      "Model: \"sequential_2\"\n",
      "_________________________________________________________________\n",
      "Layer (type)                 Output Shape              Param #   \n",
      "=================================================================\n",
      "conv2d_195 (Conv2D)          (None, 180, 180, 32)      896       \n",
      "_________________________________________________________________\n",
      "batch_normalization_198 (Bat (None, 180, 180, 32)      128       \n",
      "_________________________________________________________________\n",
      "max_pooling2d_13 (MaxPooling (None, 90, 90, 32)        0         \n",
      "_________________________________________________________________\n",
      "conv2d_196 (Conv2D)          (None, 90, 90, 64)        18496     \n",
      "_________________________________________________________________\n",
      "batch_normalization_199 (Bat (None, 90, 90, 64)        256       \n",
      "_________________________________________________________________\n",
      "conv2d_197 (Conv2D)          (None, 90, 90, 64)        36928     \n",
      "_________________________________________________________________\n",
      "batch_normalization_200 (Bat (None, 90, 90, 64)        256       \n",
      "_________________________________________________________________\n",
      "conv2d_198 (Conv2D)          (None, 90, 90, 64)        36928     \n",
      "_________________________________________________________________\n",
      "batch_normalization_201 (Bat (None, 90, 90, 64)        256       \n",
      "_________________________________________________________________\n",
      "conv2d_199 (Conv2D)          (None, 90, 90, 64)        36928     \n",
      "_________________________________________________________________\n",
      "batch_normalization_202 (Bat (None, 90, 90, 64)        256       \n",
      "_________________________________________________________________\n",
      "max_pooling2d_14 (MaxPooling (None, 45, 45, 64)        0         \n",
      "_________________________________________________________________\n",
      "conv2d_200 (Conv2D)          (None, 45, 45, 128)       73856     \n",
      "_________________________________________________________________\n",
      "batch_normalization_203 (Bat (None, 45, 45, 128)       512       \n",
      "_________________________________________________________________\n",
      "max_pooling2d_15 (MaxPooling (None, 22, 22, 128)       0         \n",
      "_________________________________________________________________\n",
      "flatten_2 (Flatten)          (None, 61952)             0         \n",
      "_________________________________________________________________\n",
      "dense_5 (Dense)              (None, 256)               15859968  \n",
      "_________________________________________________________________\n",
      "batch_normalization_204 (Bat (None, 256)               1024      \n",
      "_________________________________________________________________\n",
      "dense_6 (Dense)              (None, 128)               32896     \n",
      "_________________________________________________________________\n",
      "batch_normalization_205 (Bat (None, 128)               512       \n",
      "_________________________________________________________________\n",
      "dense_7 (Dense)              (None, 64)                8256      \n",
      "_________________________________________________________________\n",
      "batch_normalization_206 (Bat (None, 64)                256       \n",
      "_________________________________________________________________\n",
      "dense_8 (Dense)              (None, 4)                 260       \n",
      "=================================================================\n",
      "Total params: 16,108,868\n",
      "Trainable params: 16,107,140\n",
      "Non-trainable params: 1,728\n",
      "_________________________________________________________________\n",
      "None\n"
     ]
    }
   ],
   "source": [
    "classifier = Sequential()\n",
    "\n",
    "classifier.add(Conv2D(32,(3,3), activation='relu', input_shape=(180, 180, 3), padding=\"same\"))\n",
    "classifier.add(BatchNormalization())\n",
    "classifier.add(MaxPooling2D(pool_size=(2, 2)))\n",
    "#classifier.add(Dropout(0.2))\n",
    "\n",
    "classifier.add(Conv2D(64,(3,3), activation='relu', padding=\"same\"))\n",
    "classifier.add(BatchNormalization())\n",
    "\n",
    "classifier.add(Conv2D(64,(3,3), activation='relu', padding=\"same\"))\n",
    "classifier.add(BatchNormalization())\n",
    "\n",
    "classifier.add(Conv2D(64,(3,3), activation='relu', padding=\"same\"))\n",
    "classifier.add(BatchNormalization())\n",
    "\n",
    "classifier.add(Conv2D(64,(3,3), activation='relu', padding=\"same\"))\n",
    "classifier.add(BatchNormalization())\n",
    "classifier.add(MaxPooling2D(pool_size=(2, 2)))\n",
    "#classifier.add(Dropout(0.2))\n",
    "\n",
    "classifier.add(Conv2D(128,(3,3), activation='relu', padding=\"same\"))\n",
    "classifier.add(BatchNormalization())\n",
    "classifier.add(MaxPooling2D(pool_size=(2, 2)))\n",
    "#classifier.add(Dropout(0.2))\n",
    "\n",
    "\n",
    "classifier.add(Flatten())\n",
    "\n",
    "classifier.add(Dense(256, activation='relu'))\n",
    "classifier.add(BatchNormalization())\n",
    "#classifier.add(Dropout(0.15))\n",
    "\n",
    "classifier.add(Dense(128, activation='relu'))\n",
    "classifier.add(BatchNormalization())\n",
    "#classifier.add(Dropout(0.15))\n",
    "\n",
    "classifier.add(Dense(64, activation='relu'))\n",
    "classifier.add(BatchNormalization())\n",
    "#classifier.add(Dropout(0.15))\n",
    "\n",
    "classifier.add(Dense(4, activation = 'softmax'))\n",
    "\n",
    "opt = Adam(learning_rate=0.01)\n",
    "classifier.compile(optimizer = opt, loss = 'categorical_crossentropy', metrics = ['accuracy'])\n",
    "\n",
    "print(classifier.summary())"
   ]
  },
  {
   "cell_type": "markdown",
   "id": "0f87ef34",
   "metadata": {},
   "source": [
    "# Training Model"
   ]
  },
  {
   "cell_type": "code",
   "execution_count": 31,
   "id": "f01d1330",
   "metadata": {},
   "outputs": [
    {
     "name": "stdout",
     "output_type": "stream",
     "text": [
      "Epoch 1/40\n",
      "171/170 [==============================] - 221s 1s/step - loss: 1.5177 - accuracy: 0.3314 - val_loss: 1.6916 - val_accuracy: 0.2931\n",
      "\n",
      "Epoch 00001: val_accuracy improved from -inf to 0.29310, saving model to D:\\Projects\\Shopping Assistant\\models\\baselineCNN.h5\n",
      "Epoch 2/40\n",
      "171/170 [==============================] - 213s 1s/step - loss: 1.3034 - accuracy: 0.4254 - val_loss: 1.1189 - val_accuracy: 0.2586\n",
      "\n",
      "Epoch 00002: val_accuracy did not improve from 0.29310\n",
      "Epoch 3/40\n",
      "171/170 [==============================] - 253s 1s/step - loss: 1.2353 - accuracy: 0.4771 - val_loss: 0.9105 - val_accuracy: 0.6379\n",
      "\n",
      "Epoch 00003: val_accuracy improved from 0.29310 to 0.63793, saving model to D:\\Projects\\Shopping Assistant\\models\\baselineCNN.h5\n",
      "Epoch 4/40\n",
      "171/170 [==============================] - 239s 1s/step - loss: 1.1997 - accuracy: 0.5029 - val_loss: 1.5164 - val_accuracy: 0.6724\n",
      "\n",
      "Epoch 00004: val_accuracy improved from 0.63793 to 0.67241, saving model to D:\\Projects\\Shopping Assistant\\models\\baselineCNN.h5\n",
      "Epoch 5/40\n",
      "171/170 [==============================] - 238s 1s/step - loss: 1.2842 - accuracy: 0.4125 - val_loss: 1.6569 - val_accuracy: 0.4483\n",
      "\n",
      "Epoch 00005: val_accuracy did not improve from 0.67241\n",
      "Epoch 6/40\n",
      "171/170 [==============================] - 220s 1s/step - loss: 1.2651 - accuracy: 0.4559 - val_loss: 1.5421 - val_accuracy: 0.5000\n",
      "\n",
      "Epoch 00006: val_accuracy did not improve from 0.67241\n",
      "Epoch 7/40\n",
      "171/170 [==============================] - 254s 1s/step - loss: 1.1983 - accuracy: 0.4971 - val_loss: 1.3518 - val_accuracy: 0.6034\n",
      "\n",
      "Epoch 00007: val_accuracy did not improve from 0.67241\n",
      "Epoch 8/40\n",
      "171/170 [==============================] - 261s 2s/step - loss: 1.2013 - accuracy: 0.5029 - val_loss: 0.6271 - val_accuracy: 0.6897\n",
      "\n",
      "Epoch 00008: val_accuracy improved from 0.67241 to 0.68966, saving model to D:\\Projects\\Shopping Assistant\\models\\baselineCNN.h5\n",
      "Epoch 9/40\n",
      "171/170 [==============================] - 268s 2s/step - loss: 1.1089 - accuracy: 0.5511 - val_loss: 0.7924 - val_accuracy: 0.6379\n",
      "\n",
      "Epoch 00009: val_accuracy did not improve from 0.68966\n",
      "Epoch 10/40\n",
      "171/170 [==============================] - 299s 2s/step - loss: 1.1746 - accuracy: 0.5029 - val_loss: 1.2692 - val_accuracy: 0.7241\n",
      "\n",
      "Epoch 00010: val_accuracy improved from 0.68966 to 0.72414, saving model to D:\\Projects\\Shopping Assistant\\models\\baselineCNN.h5\n",
      "Epoch 11/40\n",
      "171/170 [==============================] - 273s 2s/step - loss: 1.1412 - accuracy: 0.5300 - val_loss: 1.0121 - val_accuracy: 0.6207\n",
      "\n",
      "Epoch 00011: val_accuracy did not improve from 0.72414\n",
      "Epoch 12/40\n",
      "171/170 [==============================] - 230s 1s/step - loss: 1.1481 - accuracy: 0.5347 - val_loss: 0.8474 - val_accuracy: 0.6897\n",
      "\n",
      "Epoch 00012: val_accuracy did not improve from 0.72414\n",
      "Epoch 13/40\n",
      "171/170 [==============================] - 204s 1s/step - loss: 1.0683 - accuracy: 0.5640 - val_loss: 0.8523 - val_accuracy: 0.7241\n",
      "\n",
      "Epoch 00013: val_accuracy did not improve from 0.72414\n",
      "Epoch 14/40\n",
      "171/170 [==============================] - 231s 1s/step - loss: 1.1283 - accuracy: 0.5311 - val_loss: 5.2412 - val_accuracy: 0.2586\n",
      "\n",
      "Epoch 00014: val_accuracy did not improve from 0.72414\n",
      "Epoch 15/40\n",
      "171/170 [==============================] - 233s 1s/step - loss: 1.1752 - accuracy: 0.4818 - val_loss: 1.6508 - val_accuracy: 0.5862\n",
      "\n",
      "Epoch 00015: val_accuracy did not improve from 0.72414\n",
      "Epoch 16/40\n",
      "171/170 [==============================] - 194s 1s/step - loss: 1.1768 - accuracy: 0.5041 - val_loss: 1.0789 - val_accuracy: 0.6034\n",
      "\n",
      "Epoch 00016: val_accuracy did not improve from 0.72414\n",
      "Epoch 17/40\n",
      "171/170 [==============================] - 225s 1s/step - loss: 1.1112 - accuracy: 0.5417 - val_loss: 0.9282 - val_accuracy: 0.5862\n",
      "\n",
      "Epoch 00017: val_accuracy did not improve from 0.72414\n",
      "Epoch 18/40\n",
      "171/170 [==============================] - 235s 1s/step - loss: 1.0436 - accuracy: 0.5781 - val_loss: 0.3108 - val_accuracy: 0.7586\n",
      "\n",
      "Epoch 00018: val_accuracy improved from 0.72414 to 0.75862, saving model to D:\\Projects\\Shopping Assistant\\models\\baselineCNN.h5\n",
      "Epoch 19/40\n",
      "171/170 [==============================] - 194s 1s/step - loss: 1.0788 - accuracy: 0.5687 - val_loss: 0.7094 - val_accuracy: 0.7931\n",
      "\n",
      "Epoch 00019: val_accuracy improved from 0.75862 to 0.79310, saving model to D:\\Projects\\Shopping Assistant\\models\\baselineCNN.h5\n",
      "Epoch 20/40\n",
      "171/170 [==============================] - 229s 1s/step - loss: 1.0123 - accuracy: 0.5958 - val_loss: 0.4551 - val_accuracy: 0.3966\n",
      "\n",
      "Epoch 00020: val_accuracy did not improve from 0.79310\n",
      "Epoch 21/40\n",
      "171/170 [==============================] - 197s 1s/step - loss: 1.0038 - accuracy: 0.5899 - val_loss: 1.3082 - val_accuracy: 0.5517\n",
      "\n",
      "Epoch 00021: val_accuracy did not improve from 0.79310\n",
      "Epoch 22/40\n",
      "171/170 [==============================] - 224s 1s/step - loss: 1.1909 - accuracy: 0.4924 - val_loss: 0.5819 - val_accuracy: 0.5862\n",
      "\n",
      "Epoch 00022: val_accuracy did not improve from 0.79310\n",
      "Epoch 23/40\n",
      "171/170 [==============================] - 228s 1s/step - loss: 1.1776 - accuracy: 0.5182 - val_loss: 0.7956 - val_accuracy: 0.5690\n",
      "\n",
      "Epoch 00023: val_accuracy did not improve from 0.79310\n",
      "Epoch 24/40\n",
      "171/170 [==============================] - 192s 1s/step - loss: 1.1259 - accuracy: 0.5311 - val_loss: 12.5344 - val_accuracy: 0.2586\n",
      "\n",
      "Epoch 00024: val_accuracy did not improve from 0.79310\n",
      "Epoch 25/40\n",
      "171/170 [==============================] - 226s 1s/step - loss: 1.1076 - accuracy: 0.5499 - val_loss: 1.5544 - val_accuracy: 0.6552\n",
      "\n",
      "Epoch 00025: val_accuracy did not improve from 0.79310\n",
      "Epoch 26/40\n",
      "171/170 [==============================] - 211s 1s/step - loss: 1.2654 - accuracy: 0.4454 - val_loss: 1.2103 - val_accuracy: 0.2759\n",
      "\n",
      "Epoch 00026: val_accuracy did not improve from 0.79310\n",
      "Epoch 27/40\n",
      "171/170 [==============================] - 206s 1s/step - loss: 1.2437 - accuracy: 0.4536 - val_loss: 0.5972 - val_accuracy: 0.5345\n",
      "\n",
      "Epoch 00027: val_accuracy did not improve from 0.79310\n",
      "Epoch 28/40\n",
      "171/170 [==============================] - 228s 1s/step - loss: 1.1271 - accuracy: 0.5217 - val_loss: 1.2099 - val_accuracy: 0.6552\n",
      "\n",
      "Epoch 00028: val_accuracy did not improve from 0.79310\n",
      "Epoch 29/40\n",
      "171/170 [==============================] - 190s 1s/step - loss: 1.1724 - accuracy: 0.4771 - val_loss: 0.6959 - val_accuracy: 0.4828\n",
      "\n",
      "Epoch 00029: val_accuracy did not improve from 0.79310\n",
      "Epoch 30/40\n",
      "171/170 [==============================] - 237s 1s/step - loss: 1.1170 - accuracy: 0.5464 - val_loss: 0.6956 - val_accuracy: 0.8966\n",
      "\n",
      "Epoch 00030: val_accuracy improved from 0.79310 to 0.89655, saving model to D:\\Projects\\Shopping Assistant\\models\\baselineCNN.h5\n",
      "Epoch 31/40\n",
      "171/170 [==============================] - 197s 1s/step - loss: 1.0375 - accuracy: 0.5875 - val_loss: 0.7236 - val_accuracy: 0.7241\n",
      "\n",
      "Epoch 00031: val_accuracy did not improve from 0.89655\n",
      "Epoch 32/40\n",
      "171/170 [==============================] - 226s 1s/step - loss: 1.0191 - accuracy: 0.5946 - val_loss: 0.4928 - val_accuracy: 0.8793\n",
      "\n",
      "Epoch 00032: val_accuracy did not improve from 0.89655\n",
      "Epoch 33/40\n",
      "171/170 [==============================] - 221s 1s/step - loss: 1.0538 - accuracy: 0.5593 - val_loss: 189.6059 - val_accuracy: 0.5517\n",
      "\n",
      "Epoch 00033: val_accuracy did not improve from 0.89655\n",
      "Epoch 34/40\n",
      "171/170 [==============================] - 204s 1s/step - loss: 0.9924 - accuracy: 0.5911 - val_loss: 0.1306 - val_accuracy: 0.4655\n",
      "\n",
      "Epoch 00034: val_accuracy did not improve from 0.89655\n",
      "Epoch 35/40\n",
      "171/170 [==============================] - 230s 1s/step - loss: 0.9399 - accuracy: 0.6275 - val_loss: 0.8729 - val_accuracy: 0.4483\n",
      "\n",
      "Epoch 00035: val_accuracy did not improve from 0.89655\n",
      "Epoch 36/40\n",
      "171/170 [==============================] - 194s 1s/step - loss: 0.9523 - accuracy: 0.6216 - val_loss: 0.5017 - val_accuracy: 0.7241\n",
      "\n",
      "Epoch 00036: val_accuracy did not improve from 0.89655\n",
      "Epoch 37/40\n",
      "171/170 [==============================] - 238s 1s/step - loss: 0.8687 - accuracy: 0.6533 - val_loss: 0.3872 - val_accuracy: 0.8793\n",
      "\n",
      "Epoch 00037: val_accuracy did not improve from 0.89655\n",
      "Epoch 38/40\n",
      "171/170 [==============================] - 245s 1s/step - loss: 0.8565 - accuracy: 0.6510 - val_loss: 0.3223 - val_accuracy: 0.7931\n",
      "\n",
      "Epoch 00038: val_accuracy did not improve from 0.89655\n",
      "Epoch 39/40\n"
     ]
    },
    {
     "name": "stdout",
     "output_type": "stream",
     "text": [
      "171/170 [==============================] - 233s 1s/step - loss: 0.8698 - accuracy: 0.6510 - val_loss: 2.2827 - val_accuracy: 0.3621\n",
      "\n",
      "Epoch 00039: val_accuracy did not improve from 0.89655\n",
      "Epoch 40/40\n",
      "171/170 [==============================] - 198s 1s/step - loss: 0.8560 - accuracy: 0.6710 - val_loss: 3885.2014 - val_accuracy: 0.6552\n",
      "\n",
      "Epoch 00040: val_accuracy did not improve from 0.89655\n"
     ]
    }
   ],
   "source": [
    "es = EarlyStopping(monitor='val_loss', mode='min', verbose=1, patience=20)\n",
    "mc = ModelCheckpoint(model_dir, monitor='val_accuracy', mode='max', verbose=1, save_best_only=True)\n",
    "history=classifier.fit_generator(\n",
    "        training_set,\n",
    "        steps_per_epoch=851/5, \n",
    "        epochs=40,\n",
    "        validation_data=test_set,\n",
    "        validation_steps=58/5,\n",
    "        callbacks=[es, mc]\n",
    ")"
   ]
  },
  {
   "cell_type": "code",
   "execution_count": 32,
   "id": "4da25320",
   "metadata": {},
   "outputs": [
    {
     "data": {
      "image/png": "[encoded data removed]",
      "text/plain": [
       "<Figure size 432x288 with 1 Axes>"
      ]
     },
     "metadata": {
      "needs_background": "light"
     },
     "output_type": "display_data"
    }
   ],
   "source": [
    "plt.plot(history.history['accuracy'])\n",
    "plt.plot(history.history['val_accuracy'])\n",
    "plt.title('model accuracy')\n",
    "plt.ylabel('accuracy')\n",
    "plt.xlabel('epoch')\n",
    "plt.legend(['train', 'test'], loc='upper left')\n",
    "plt.show()"
   ]
  },
  {
   "cell_type": "code",
   "execution_count": null,
   "id": "4bda14d6",
   "metadata": {},
   "outputs": [],
   "source": []
  },
  {
   "cell_type": "markdown",
   "id": "f1cbbb0b",
   "metadata": {},
   "source": [
    "# Test Image"
   ]
  },
  {
   "cell_type": "code",
   "execution_count": 77,
   "id": "51555e80",
   "metadata": {},
   "outputs": [],
   "source": [
    "test_img_dir = os.path.join(test_dir, 'burger', '3.jpg')"
   ]
  },
  {
   "cell_type": "markdown",
   "id": "288acc92",
   "metadata": {},
   "source": [
    "# BaseLine Prediction"
   ]
  },
  {
   "cell_type": "code",
   "execution_count": 78,
   "id": "517e3ded",
   "metadata": {},
   "outputs": [
    {
     "name": "stdout",
     "output_type": "stream",
     "text": [
      "Predicted: cheeseburger\n"
     ]
    }
   ],
   "source": [
    "classifier = load_model(model_dir)\n",
    "test_img = image.load_img(test_img_dir, target_size = (180, 180))\n",
    "test_img = image.img_to_array(test_img)\n",
    "test_img = np.expand_dims(test_img, axis=0)\n",
    "\n",
    "result = classifier.predict(test_img)\n",
    "BaseLinePred = getLabel(result)\n",
    "print('Predicted:', BaseLinePred)"
   ]
  },
  {
   "cell_type": "markdown",
   "id": "0f00c475",
   "metadata": {},
   "source": [
    "# Resnet50 Prediction"
   ]
  },
  {
   "cell_type": "code",
   "execution_count": 79,
   "id": "80c8f656",
   "metadata": {},
   "outputs": [
    {
     "name": "stdout",
     "output_type": "stream",
     "text": [
      "Predicted: cheeseburger\n"
     ]
    }
   ],
   "source": [
    "from keras.applications.resnet50 import preprocess_input, decode_predictions\n",
    "\n",
    "resnet50 = ResNet50(weights='imagenet')\n",
    "img = image.load_img(test_img_dir, target_size=(224, 224))\n",
    "x = image.img_to_array(img)\n",
    "x = np.expand_dims(x, axis=0)\n",
    "x = preprocess_input(x)\n",
    "\n",
    "ResNetPred = resnet50.predict(x)\n",
    "ResNetPred = decode_predictions(ResNetPred, top=1)[0][0][1]\n",
    "print('Predicted:', ResNetPred)"
   ]
  },
  {
   "cell_type": "markdown",
   "id": "09c8e8f3",
   "metadata": {},
   "source": [
    "# InceptionV3 Prediction"
   ]
  },
  {
   "cell_type": "code",
   "execution_count": 80,
   "id": "203f519d",
   "metadata": {},
   "outputs": [
    {
     "name": "stdout",
     "output_type": "stream",
     "text": [
      "Predicted: cheeseburger\n"
     ]
    }
   ],
   "source": [
    "from keras.applications.inception_v3 import preprocess_input, decode_predictions\n",
    "\n",
    "inceptionV3 = InceptionV3(weights='imagenet')\n",
    "img = image.load_img(test_img_dir, target_size=(299, 299))\n",
    "x = image.img_to_array(img)\n",
    "x = np.expand_dims(x, axis=0)\n",
    "x = preprocess_input(x)\n",
    "\n",
    "InceptionPred = inceptionV3.predict(x)\n",
    "InceptionPred = decode_predictions(InceptionPred, top=1)[0][0][1]\n",
    "print('Predicted:', InceptionPred)"
   ]
  },
  {
   "cell_type": "markdown",
   "id": "1e912a98",
   "metadata": {},
   "source": [
    "# Xception Prediction"
   ]
  },
  {
   "cell_type": "code",
   "execution_count": 81,
   "id": "a8f6809f",
   "metadata": {},
   "outputs": [
    {
     "name": "stdout",
     "output_type": "stream",
     "text": [
      "Predicted: cheeseburger\n"
     ]
    }
   ],
   "source": [
    "from keras.applications.xception import preprocess_input, decode_predictions\n",
    "\n",
    "xception = InceptionV3(weights='imagenet')\n",
    "img = image.load_img(test_img_dir, target_size=(299, 299))\n",
    "x = image.img_to_array(img)\n",
    "x = np.expand_dims(x, axis=0)\n",
    "x = preprocess_input(x)\n",
    "\n",
    "XceptionPred = xception.predict(x)\n",
    "XceptionPred = decode_predictions(XceptionPred, top=1)[0][0][1]\n",
    "print('Predicted:', XceptionPred)"
   ]
  },
  {
   "cell_type": "markdown",
   "id": "a1340a45",
   "metadata": {},
   "source": [
    "# Getting best prediction, groceries and their ids"
   ]
  },
  {
   "cell_type": "code",
   "execution_count": 82,
   "id": "58418dfd",
   "metadata": {},
   "outputs": [
    {
     "name": "stdout",
     "output_type": "stream",
     "text": [
      "Food Item Detected:  cheeseburger\n",
      "Groceries required: \n",
      "1   bread\n",
      "2   tomato\n",
      "3   potato\n",
      "4   cheese\n",
      "Groceries ids:  [0, 5, 6, 1]\n"
     ]
    }
   ],
   "source": [
    "results = [BaseLinePred, ResNetPred, InceptionPred, XceptionPred]\n",
    "finalPrediction = getFinalLabel(results)\n",
    "groceries = getGroceries(finalPrediction)\n",
    "groceriesLabels = groceries[0]\n",
    "groceriesIds = groceries[1]\n",
    "print('Food Item Detected: ', finalPrediction)\n",
    "print('Groceries required: ')\n",
    "for i in range(4):\n",
    "    print(i+1,' ',groceriesLabels[i])\n",
    "print('Groceries ids: ', groceriesIds)"
   ]
  },
  {
   "cell_type": "markdown",
   "id": "afb45e82",
   "metadata": {},
   "source": [
    "# Pathfinding"
   ]
  },
  {
   "cell_type": "code",
   "execution_count": 83,
   "id": "01e0f029",
   "metadata": {},
   "outputs": [],
   "source": [
    "INT_MAX = maxsize\n",
    "def initialise(V):\n",
    "    global dis, Next\n",
    "\n",
    "    for i in range(V):\n",
    "        for j in range(V):\n",
    "            dis[i][j] = graph[i][j]\n",
    "\n",
    "            # No edge between node\n",
    "            # i and j\n",
    "            if (graph[i][j] == INF):\n",
    "                Next[i][j] = -1\n",
    "            else:\n",
    "                Next[i][j] = j"
   ]
  },
  {
   "cell_type": "code",
   "execution_count": 84,
   "id": "c6af9570",
   "metadata": {},
   "outputs": [],
   "source": [
    "def constructPath(u, v):\n",
    "    global graph, Next\n",
    "\n",
    "    # If there's no path between\n",
    "    # node u and v, simply return\n",
    "    # an empty array\n",
    "    if (Next[u][v] == -1):\n",
    "        return {}\n",
    "\n",
    "    # Storing the path in a vector\n",
    "    path = [u]\n",
    "    while (u != v):\n",
    "        u = Next[u][v]\n",
    "        path.append(u)\n",
    "\n",
    "    return path"
   ]
  },
  {
   "cell_type": "code",
   "execution_count": 85,
   "id": "48104971",
   "metadata": {},
   "outputs": [],
   "source": [
    "# Standard Floyd Warshall Algorithm\n",
    "# with little modification Now if we find\n",
    "# that dis[i][j] > dis[i][k] + dis[k][j]\n",
    "# then we modify next[i][j] = next[i][k]\n",
    "def floydWarshall(V):\n",
    "    global dist, Next\n",
    "    for k in range(V):\n",
    "        for i in range(V):\n",
    "            for j in range(V):   \n",
    "                # We cannot travel through\n",
    "                # edge that doesn't exist\n",
    "                if (dis[i][k] == INF or dis[k][j] == INF):\n",
    "                    continue\n",
    "                if (dis[i][j] > dis[i][k] + dis[k][j]):\n",
    "                    dis[i][j] = dis[i][k] + dis[k][j]\n",
    "                    Next[i][j] = Next[i][k]"
   ]
  },
  {
   "cell_type": "code",
   "execution_count": 86,
   "id": "99670f05",
   "metadata": {},
   "outputs": [],
   "source": [
    "# Prthe shortest path\n",
    "def printPath(path):\n",
    "    n = len(path)\n",
    "    for i in range(n - 1):\n",
    "        print(path[i], end=\" -> \")\n",
    "    if n>=1:\n",
    "        print (path[n - 1])"
   ]
  },
  {
   "cell_type": "code",
   "execution_count": 87,
   "id": "4a1ea05d",
   "metadata": {},
   "outputs": [],
   "source": [
    "# Returns true if edge u-v is a valid edge to be\n",
    "# include in MST. An edge is valid if one end is\n",
    "# already included in MST and other is not in MST.\n",
    "def isValidEdge(u, v, inMST):\n",
    "    if u == v:\n",
    "        return False\n",
    "    if inMST[u] == False and inMST[v] == False:\n",
    "        return False\n",
    "    elif inMST[u] == True and inMST[v] == True:\n",
    "        return False\n",
    "    return True"
   ]
  },
  {
   "cell_type": "code",
   "execution_count": 88,
   "id": "b48c73c7",
   "metadata": {},
   "outputs": [],
   "source": [
    "def primMST(cost):\n",
    "    inMST = [False] * V1\n",
    "\n",
    "    # Include first vertex in MST\n",
    "    inMST[0] = True\n",
    "\n",
    "    # Keep adding edges while number of included\n",
    "    # edges does not become V-1.\n",
    "    edge_count = 0\n",
    "    mincost = 0\n",
    "    while edge_count < V1 - 1:\n",
    "\n",
    "        # Find minimum weight valid edge.\n",
    "        minn = INT_MAX\n",
    "        a = -1\n",
    "        b = -1\n",
    "        for i in range(V1):\n",
    "            for j in range(V1):\n",
    "                if cost[i][j] < minn:\n",
    "                    if isValidEdge(i, j, inMST):\n",
    "                        minn = cost[i][j]\n",
    "                        a = i\n",
    "                        b = j\n",
    "\n",
    "        if a != -1 and b != -1:\n",
    "            print(\"Edge %d: (%d, %d) cost: %d\" %\n",
    "                (edge_count, required[a], required[b], minn))\n",
    "            printPath(constructPath(required[a],required[b]))\n",
    "            edge_count += 1\n",
    "            mincost += minn\n",
    "            inMST[b] = inMST[a] = True\n",
    "    print(\"Minimum cost = %d\" % mincost)"
   ]
  },
  {
   "cell_type": "code",
   "execution_count": 89,
   "id": "091e0f52",
   "metadata": {},
   "outputs": [
    {
     "name": "stdout",
     "output_type": "stream",
     "text": [
      "[[0, 9, 6, 2], [9, 0, 10, 9], [6, 10, 0, 4], [2, 9, 4, 0]]\n",
      "Edge 0: (0, 1) cost: 2\n",
      "0 -> 1\n",
      "Edge 1: (6, 1) cost: 4\n",
      "6 -> 1\n",
      "Edge 2: (0, 5) cost: 9\n",
      "0 -> 5\n",
      "Minimum cost = 15\n"
     ]
    }
   ],
   "source": [
    "''' Let us create the following graph\n",
    "    2 3\n",
    "(0)--(1)--(2)\n",
    "| / \\ |\n",
    "6| 8/ \\5 |7\n",
    "| /\t \\ |\n",
    "(3)-------(4)\n",
    "        9   '''\n",
    "\n",
    "# Print the solution\n",
    "\n",
    "V=10\n",
    "MAXM,INF = 100,INT_MAX\n",
    "dis = [[-1 for i in range(MAXM)] for i in range(MAXM)]\n",
    "Next = [[-1 for i in range(MAXM)] for i in range(MAXM)]\n",
    "\n",
    "\n",
    "graph = [ \n",
    "    [ 0, 2, INF, INF, INF, 9, INF, INF, INF, INF],\n",
    "    [ 2, 0, INF, INF, 6, INF, 4, INF, INF, INF],\n",
    "    [ INF, INF, 0, INF, 4, INF, 3, INF, 5, INF],\n",
    "    [ INF, INF, INF, 0, 2, 1, INF, INF, INF, 3],\n",
    "    [ INF, 6, 4, 2, 0, INF, INF, INF, INF, INF],\n",
    "    [ 9, INF, INF, 1, INF, 0, INF, 6, INF, INF],\n",
    "    [ INF, 4, 3, INF, INF, INF, 0, INF, INF, INF],\n",
    "    [ INF, INF, INF, INF, INF, 6, INF, 0, INF, 3],\n",
    "    [ INF, INF, 5, INF, INF, INF, INF, INF, 0, 7],\n",
    "    [ INF, INF, INF, 3, INF, INF, INF, 3, 7, 0]\n",
    "]\n",
    "\n",
    "# Function to initialise the\n",
    "# distance and Next array\n",
    "initialise(V)\n",
    "#Calling Floyd Warshall Algorithm,\n",
    "# this will update the shortest\n",
    "# distance as well as Next array\n",
    "floydWarshall(V)\n",
    "required = groceriesIds\n",
    "result= [[-1 for i in range(len(required))] for i in range(len(required))]\n",
    "global V1\n",
    "V1=len(required)\n",
    "for i in range(len(required)):\n",
    "    for j in range(i,len(required)):\n",
    "        result[i][j]=dis[required[i]][required[j]]\n",
    "        result[j][i]=dis[required[j]][required[i]]\n",
    "print(result)\n",
    "primMST(result)"
   ]
  },
  {
   "cell_type": "code",
   "execution_count": 62,
   "id": "f353143f",
   "metadata": {},
   "outputs": [
    {
     "ename": "NetworkXError",
     "evalue": "random_state_index is incorrect",
     "output_type": "error",
     "traceback": [
      "\u001b[1;31m---------------------------------------------------------------------------\u001b[0m",
      "\u001b[1;31mIndexError\u001b[0m                                Traceback (most recent call last)",
      "\u001b[1;32mD:\\anaconda\\envs\\ml\\lib\\site-packages\\networkx\\utils\\decorators.py\u001b[0m in \u001b[0;36m_random_state\u001b[1;34m(func, *args, **kwargs)\u001b[0m\n\u001b[0;32m    392\u001b[0m         \u001b[1;32mtry\u001b[0m\u001b[1;33m:\u001b[0m\u001b[1;33m\u001b[0m\u001b[1;33m\u001b[0m\u001b[0m\n\u001b[1;32m--> 393\u001b[1;33m             \u001b[0mrandom_state_arg\u001b[0m \u001b[1;33m=\u001b[0m \u001b[0margs\u001b[0m\u001b[1;33m[\u001b[0m\u001b[0mrandom_state_index\u001b[0m\u001b[1;33m]\u001b[0m\u001b[1;33m\u001b[0m\u001b[1;33m\u001b[0m\u001b[0m\n\u001b[0m\u001b[0;32m    394\u001b[0m         \u001b[1;32mexcept\u001b[0m \u001b[0mTypeError\u001b[0m\u001b[1;33m:\u001b[0m\u001b[1;33m\u001b[0m\u001b[1;33m\u001b[0m\u001b[0m\n",
      "\u001b[1;31mIndexError\u001b[0m: tuple index out of range",
      "\nDuring handling of the above exception, another exception occurred:\n",
      "\u001b[1;31mNetworkXError\u001b[0m                             Traceback (most recent call last)",
      "\u001b[1;32m<ipython-input-62-f35a3c51b895>\u001b[0m in \u001b[0;36m<module>\u001b[1;34m\u001b[0m\n\u001b[0;32m     13\u001b[0m \u001b[0mgraph\u001b[0m \u001b[1;33m=\u001b[0m \u001b[0mnp\u001b[0m\u001b[1;33m.\u001b[0m\u001b[0marray\u001b[0m\u001b[1;33m(\u001b[0m\u001b[0mgraph\u001b[0m\u001b[1;33m)\u001b[0m\u001b[1;33m\u001b[0m\u001b[1;33m\u001b[0m\u001b[0m\n\u001b[0;32m     14\u001b[0m \u001b[0mG\u001b[0m \u001b[1;33m=\u001b[0m \u001b[0mnx\u001b[0m\u001b[1;33m.\u001b[0m\u001b[0mfrom_numpy_matrix\u001b[0m\u001b[1;33m(\u001b[0m\u001b[0mgraph\u001b[0m\u001b[1;33m)\u001b[0m\u001b[1;33m\u001b[0m\u001b[1;33m\u001b[0m\u001b[0m\n\u001b[1;32m---> 15\u001b[1;33m \u001b[0mnx\u001b[0m\u001b[1;33m.\u001b[0m\u001b[0mdraw\u001b[0m\u001b[1;33m(\u001b[0m\u001b[0mG\u001b[0m\u001b[1;33m,\u001b[0m \u001b[0mwith_labels\u001b[0m\u001b[1;33m=\u001b[0m\u001b[1;32mTrue\u001b[0m\u001b[1;33m)\u001b[0m\u001b[1;33m\u001b[0m\u001b[1;33m\u001b[0m\u001b[0m\n\u001b[0m",
      "\u001b[1;32mD:\\anaconda\\envs\\ml\\lib\\site-packages\\networkx\\drawing\\nx_pylab.py\u001b[0m in \u001b[0;36mdraw\u001b[1;34m(G, pos, ax, **kwds)\u001b[0m\n\u001b[0;32m    126\u001b[0m \u001b[1;33m\u001b[0m\u001b[0m\n\u001b[0;32m    127\u001b[0m     \u001b[1;32mtry\u001b[0m\u001b[1;33m:\u001b[0m\u001b[1;33m\u001b[0m\u001b[1;33m\u001b[0m\u001b[0m\n\u001b[1;32m--> 128\u001b[1;33m         \u001b[0mdraw_networkx\u001b[0m\u001b[1;33m(\u001b[0m\u001b[0mG\u001b[0m\u001b[1;33m,\u001b[0m \u001b[0mpos\u001b[0m\u001b[1;33m=\u001b[0m\u001b[0mpos\u001b[0m\u001b[1;33m,\u001b[0m \u001b[0max\u001b[0m\u001b[1;33m=\u001b[0m\u001b[0max\u001b[0m\u001b[1;33m,\u001b[0m \u001b[1;33m**\u001b[0m\u001b[0mkwds\u001b[0m\u001b[1;33m)\u001b[0m\u001b[1;33m\u001b[0m\u001b[1;33m\u001b[0m\u001b[0m\n\u001b[0m\u001b[0;32m    129\u001b[0m         \u001b[0max\u001b[0m\u001b[1;33m.\u001b[0m\u001b[0mset_axis_off\u001b[0m\u001b[1;33m(\u001b[0m\u001b[1;33m)\u001b[0m\u001b[1;33m\u001b[0m\u001b[1;33m\u001b[0m\u001b[0m\n\u001b[0;32m    130\u001b[0m         \u001b[0mplt\u001b[0m\u001b[1;33m.\u001b[0m\u001b[0mdraw_if_interactive\u001b[0m\u001b[1;33m(\u001b[0m\u001b[1;33m)\u001b[0m\u001b[1;33m\u001b[0m\u001b[1;33m\u001b[0m\u001b[0m\n",
      "\u001b[1;32mD:\\anaconda\\envs\\ml\\lib\\site-packages\\networkx\\drawing\\nx_pylab.py\u001b[0m in \u001b[0;36mdraw_networkx\u001b[1;34m(G, pos, arrows, with_labels, **kwds)\u001b[0m\n\u001b[0;32m    275\u001b[0m \u001b[1;33m\u001b[0m\u001b[0m\n\u001b[0;32m    276\u001b[0m     \u001b[1;32mif\u001b[0m \u001b[0mpos\u001b[0m \u001b[1;32mis\u001b[0m \u001b[1;32mNone\u001b[0m\u001b[1;33m:\u001b[0m\u001b[1;33m\u001b[0m\u001b[1;33m\u001b[0m\u001b[0m\n\u001b[1;32m--> 277\u001b[1;33m         \u001b[0mpos\u001b[0m \u001b[1;33m=\u001b[0m \u001b[0mnx\u001b[0m\u001b[1;33m.\u001b[0m\u001b[0mdrawing\u001b[0m\u001b[1;33m.\u001b[0m\u001b[0mspring_layout\u001b[0m\u001b[1;33m(\u001b[0m\u001b[0mG\u001b[0m\u001b[1;33m)\u001b[0m  \u001b[1;31m# default to spring layout\u001b[0m\u001b[1;33m\u001b[0m\u001b[1;33m\u001b[0m\u001b[0m\n\u001b[0m\u001b[0;32m    278\u001b[0m \u001b[1;33m\u001b[0m\u001b[0m\n\u001b[0;32m    279\u001b[0m     \u001b[0mnode_collection\u001b[0m \u001b[1;33m=\u001b[0m \u001b[0mdraw_networkx_nodes\u001b[0m\u001b[1;33m(\u001b[0m\u001b[0mG\u001b[0m\u001b[1;33m,\u001b[0m \u001b[0mpos\u001b[0m\u001b[1;33m,\u001b[0m \u001b[1;33m**\u001b[0m\u001b[0mkwds\u001b[0m\u001b[1;33m)\u001b[0m\u001b[1;33m\u001b[0m\u001b[1;33m\u001b[0m\u001b[0m\n",
      "\u001b[1;32mD:\\anaconda\\envs\\ml\\lib\\site-packages\\decorator.py\u001b[0m in \u001b[0;36mfun\u001b[1;34m(*args, **kw)\u001b[0m\n\u001b[0;32m    229\u001b[0m         \u001b[0mfunc\u001b[0m\u001b[1;33m,\u001b[0m \u001b[1;34m\"return _call_(_func_, %s%%(shortsignature)s)\"\u001b[0m \u001b[1;33m%\u001b[0m \u001b[0mes\u001b[0m\u001b[1;33m,\u001b[0m\u001b[1;33m\u001b[0m\u001b[1;33m\u001b[0m\u001b[0m\n\u001b[0;32m    230\u001b[0m         evaldict, __wrapped__=func)\n\u001b[1;32m--> 231\u001b[1;33m     \u001b[1;32mif\u001b[0m \u001b[0mhasattr\u001b[0m\u001b[1;33m(\u001b[0m\u001b[0mfunc\u001b[0m\u001b[1;33m,\u001b[0m \u001b[1;34m'__qualname__'\u001b[0m\u001b[1;33m)\u001b[0m\u001b[1;33m:\u001b[0m\u001b[1;33m\u001b[0m\u001b[1;33m\u001b[0m\u001b[0m\n\u001b[0m\u001b[0;32m    232\u001b[0m         \u001b[0mfun\u001b[0m\u001b[1;33m.\u001b[0m\u001b[0m__qualname__\u001b[0m \u001b[1;33m=\u001b[0m \u001b[0mfunc\u001b[0m\u001b[1;33m.\u001b[0m\u001b[0m__qualname__\u001b[0m\u001b[1;33m\u001b[0m\u001b[1;33m\u001b[0m\u001b[0m\n\u001b[0;32m    233\u001b[0m     \u001b[1;32mreturn\u001b[0m \u001b[0mfun\u001b[0m\u001b[1;33m\u001b[0m\u001b[1;33m\u001b[0m\u001b[0m\n",
      "\u001b[1;32mD:\\anaconda\\envs\\ml\\lib\\site-packages\\networkx\\utils\\decorators.py\u001b[0m in \u001b[0;36m_random_state\u001b[1;34m(func, *args, **kwargs)\u001b[0m\n\u001b[0;32m    395\u001b[0m             \u001b[1;32mraise\u001b[0m \u001b[0mnx\u001b[0m\u001b[1;33m.\u001b[0m\u001b[0mNetworkXError\u001b[0m\u001b[1;33m(\u001b[0m\u001b[1;34m\"random_state_index must be an integer\"\u001b[0m\u001b[1;33m)\u001b[0m\u001b[1;33m\u001b[0m\u001b[1;33m\u001b[0m\u001b[0m\n\u001b[0;32m    396\u001b[0m         \u001b[1;32mexcept\u001b[0m \u001b[0mIndexError\u001b[0m\u001b[1;33m:\u001b[0m\u001b[1;33m\u001b[0m\u001b[1;33m\u001b[0m\u001b[0m\n\u001b[1;32m--> 397\u001b[1;33m             \u001b[1;32mraise\u001b[0m \u001b[0mnx\u001b[0m\u001b[1;33m.\u001b[0m\u001b[0mNetworkXError\u001b[0m\u001b[1;33m(\u001b[0m\u001b[1;34m\"random_state_index is incorrect\"\u001b[0m\u001b[1;33m)\u001b[0m\u001b[1;33m\u001b[0m\u001b[1;33m\u001b[0m\u001b[0m\n\u001b[0m\u001b[0;32m    398\u001b[0m \u001b[1;33m\u001b[0m\u001b[0m\n\u001b[0;32m    399\u001b[0m         \u001b[1;31m# Create a numpy.random.RandomState instance\u001b[0m\u001b[1;33m\u001b[0m\u001b[1;33m\u001b[0m\u001b[1;33m\u001b[0m\u001b[0m\n",
      "\u001b[1;31mNetworkXError\u001b[0m: random_state_index is incorrect"
     ]
    },
    {
     "data": {
      "image/png": "[encoded data removed]",
      "text/plain": [
       "<Figure size 432x288 with 1 Axes>"
      ]
     },
     "metadata": {},
     "output_type": "display_data"
    }
   ],
   "source": [
    "graph = [ \n",
    "    [ 0, 2, 0, 0, 0, 9, 0, 0, 0, 0],\n",
    "    [ 2, 0, 0, 0, 6, 0, 4, 0, 0, 0],\n",
    "    [ 0, 0, 0, 0, 4, 0, 3, 0, 5, 0],\n",
    "    [ 0, 0, 0, 0, 2, 1, 0, 0, 0, 3],\n",
    "    [ 0, 6, 4, 2, 0, 0, 0, 0, 0, 0],\n",
    "    [ 9, 0, 0, 1, 0, 0, 0, 6, 0, 0],\n",
    "    [ 0, 4, 3, 0, 0, 0, 0, 0, 0, 0],\n",
    "    [ 0, 0, 0, 0, 0, 6, 0, 0, 0, 3],\n",
    "    [ 0, 0, 5, 0, 0, 0, 0, 0, 0, 7],\n",
    "    [ 0, 0, 0, 3, 0, 0, 0, 3, 7, 0]\n",
    "]\n",
    "graph = np.array(graph)\n",
    "G = nx.from_numpy_matrix(graph)\n",
    "nx.draw(G, with_labels=True)"
   ]
  },
  {
   "cell_type": "code",
   "execution_count": null,
   "id": "09bf4675",
   "metadata": {},
   "outputs": [],
   "source": []
  }
 ],
 "metadata": {
  "kernelspec": {
   "display_name": "Python 3",
   "language": "python",
   "name": "python3"
  }
 },
 "nbformat": 4,
 "nbformat_minor": 5
}
