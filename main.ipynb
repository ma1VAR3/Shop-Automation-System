{
 "cells": [
  {
   "cell_type": "markdown",
   "id": "f273d84d",
   "metadata": {},
   "source": [
    "# Imports"
   ]
  },
  {
   "cell_type": "code",
   "execution_count": 28,
   "id": "dc8132ad",
   "metadata": {},
   "outputs": [],
   "source": [
    "import os\n",
    "from sys import maxsize\n",
    "import matplotlib.pyplot as plt\n",
    "import numpy as np\n",
    "\n",
    "from keras.models import Sequential, load_model\n",
    "from keras.layers import Convolution2D, Conv2D\n",
    "from keras.layers import MaxPooling2D\n",
    "from keras.layers import Activation, Flatten\n",
    "from keras.layers import Dense, Dropout\n",
    "from keras.layers import BatchNormalization\n",
    "from keras.optimizers import SGD, Adam\n",
    "from keras.preprocessing import image\n",
    "from keras.preprocessing.image import ImageDataGenerator\n",
    "from keras.callbacks import EarlyStopping, ModelCheckpoint\n",
    "\n",
    "from keras.applications import ResNet50, InceptionV3, Xception"
   ]
  },
  {
   "cell_type": "markdown",
   "id": "0e86c93d",
   "metadata": {},
   "source": [
    "# Directories"
   ]
  },
  {
   "cell_type": "code",
   "execution_count": 29,
   "id": "feca6e43",
   "metadata": {},
   "outputs": [],
   "source": [
    "cwd = os.getcwd()\n",
    "train_dir = os.path.join(cwd,'Shopping Assistant','data', 'train')\n",
    "test_dir = os.path.join(cwd,'Shopping Assistant','data', 'test')\n",
    "model_dir = os.path.join(cwd,'Shopping Assistant','models','baselineCNN.h5')"
   ]
  },
  {
   "cell_type": "markdown",
   "id": "d6f31875",
   "metadata": {},
   "source": [
    "# Utilities"
   ]
  },
  {
   "cell_type": "code",
   "execution_count": 30,
   "id": "c83de69f",
   "metadata": {},
   "outputs": [],
   "source": [
    "def getLabel(result):\n",
    "    if (result[0][0]==1):\n",
    "        outcome='burger'\n",
    "    elif(result[0][1]==1):\n",
    "        outcome='hotdog'\n",
    "    elif (result[0][2]==1):\n",
    "        outcome='ice_cream'\n",
    "    elif ( result[0][3]==1):\n",
    "        outcome='pizza'\n",
    "    else:\n",
    "        outcome='Unable to Determine'\n",
    "    return outcome\n",
    "    "
   ]
  },
  {
   "cell_type": "code",
   "execution_count": 31,
   "id": "cf6a9399",
   "metadata": {},
   "outputs": [],
   "source": [
    "def getFinalLabel(results):\n",
    "    labels = ['burger', 'hotdog', 'ice_cream', 'pizza', 'Unable to Determine']\n",
    "    predSet = set()\n",
    "    count = [0, 0, 0, 0, 0]\n",
    "    for i in range(4):\n",
    "        if(results[i] in labels):\n",
    "            predSet.add(results[i])\n",
    "            idx = labels.index(results[i])\n",
    "            count[idx] = count[idx] + 1\n",
    "            if(count[idx]>=2):\n",
    "                return results[i]\n",
    "            \n",
    "    return predSet[-1]\n",
    "        "
   ]
  },
  {
   "cell_type": "code",
   "execution_count": 32,
   "id": "e18f197c",
   "metadata": {},
   "outputs": [],
   "source": [
    "def getGroceries(label):\n",
    "    burgerGroceries = ['bread', 'tomato', 'potato', 'cheese']\n",
    "    burgerGroceriesId = [0, 5, 6, 1]\n",
    "    hotdogGroceries = ['bread', 'tomato', 'sausage', 'ketchup']\n",
    "    hotdogGroceriesId = [0, 5, 2, 3]\n",
    "    ice_creamGroceries = ['ice', 'cream', 'milk', 'chocolate']\n",
    "    ice_creamGroceriesId = [4, 7, 9, 8]\n",
    "    pizzaGroceries = ['bread', 'tomato', 'cheese', 'sausage']\n",
    "    pizzaGroceriesId = [0, 5, 1, 2]\n",
    "    if(label=='burger'):\n",
    "        return [burgerGroceries, burgerGroceriesId]\n",
    "    elif(label=='hotdog'):\n",
    "        return [hotdogGroceries, hotdogGroceriesId]\n",
    "    elif(label=='ice_cream'):\n",
    "        return [ice_creamGroceries, ice_creamGroceriesId]\n",
    "    elif(label=='pizza'):\n",
    "        return [pizzaGroceries, pizzaGroceriesId]\n",
    "    else:\n",
    "        return [['Nothing'], [0, 0, 0, 0]]"
   ]
  },
  {
   "cell_type": "markdown",
   "id": "0cb97f12",
   "metadata": {},
   "source": [
    "# Training Data Generation"
   ]
  },
  {
   "cell_type": "code",
   "execution_count": 33,
   "id": "9e2f1eb2",
   "metadata": {},
   "outputs": [
    {
     "name": "stdout",
     "output_type": "stream",
     "text": [
      "Found 851 images belonging to 4 classes.\n",
      "Found 58 images belonging to 4 classes.\n"
     ]
    }
   ],
   "source": [
    "train_datagen = ImageDataGenerator(\n",
    "        rescale=1./255,\n",
    "        shear_range=0.2,\n",
    "        zoom_range=0.2,\n",
    "        horizontal_flip=True)\n",
    "\n",
    "test_datagen = ImageDataGenerator(rescale=1./255)\n",
    "\n",
    "training_set = train_datagen.flow_from_directory(train_dir,\n",
    "                                                 target_size=(180, 180),\n",
    "                                                 batch_size=5,\n",
    "                                                 class_mode='categorical'\n",
    "                                                 #shuffle=True\n",
    "                                                )\n",
    "\n",
    "test_set = test_datagen.flow_from_directory(test_dir,\n",
    "                                            target_size=(180, 180),\n",
    "                                            batch_size=5,\n",
    "                                            class_mode='categorical'\n",
    "                                            #shuffle=True\n",
    "                                           ) "
   ]
  },
  {
   "cell_type": "markdown",
   "id": "cf858313",
   "metadata": {},
   "source": [
    "# Baseline Model"
   ]
  },
  {
   "cell_type": "code",
   "execution_count": 34,
   "id": "99fe7c93",
   "metadata": {},
   "outputs": [
    {
     "name": "stdout",
     "output_type": "stream",
     "text": [
      "Model: \"sequential_2\"\n",
      "_________________________________________________________________\n",
      "Layer (type)                 Output Shape              Param #   \n",
      "=================================================================\n",
      "conv2d_383 (Conv2D)          (None, 180, 180, 32)      896       \n",
      "_________________________________________________________________\n",
      "batch_normalization_386 (Bat (None, 180, 180, 32)      128       \n",
      "_________________________________________________________________\n",
      "max_pooling2d_22 (MaxPooling (None, 90, 90, 32)        0         \n",
      "_________________________________________________________________\n",
      "conv2d_384 (Conv2D)          (None, 90, 90, 64)        18496     \n",
      "_________________________________________________________________\n",
      "batch_normalization_387 (Bat (None, 90, 90, 64)        256       \n",
      "_________________________________________________________________\n",
      "conv2d_385 (Conv2D)          (None, 90, 90, 64)        36928     \n",
      "_________________________________________________________________\n",
      "batch_normalization_388 (Bat (None, 90, 90, 64)        256       \n",
      "_________________________________________________________________\n",
      "conv2d_386 (Conv2D)          (None, 90, 90, 64)        36928     \n",
      "_________________________________________________________________\n",
      "batch_normalization_389 (Bat (None, 90, 90, 64)        256       \n",
      "_________________________________________________________________\n",
      "conv2d_387 (Conv2D)          (None, 90, 90, 64)        36928     \n",
      "_________________________________________________________________\n",
      "batch_normalization_390 (Bat (None, 90, 90, 64)        256       \n",
      "_________________________________________________________________\n",
      "max_pooling2d_23 (MaxPooling (None, 45, 45, 64)        0         \n",
      "_________________________________________________________________\n",
      "conv2d_388 (Conv2D)          (None, 45, 45, 128)       73856     \n",
      "_________________________________________________________________\n",
      "batch_normalization_391 (Bat (None, 45, 45, 128)       512       \n",
      "_________________________________________________________________\n",
      "max_pooling2d_24 (MaxPooling (None, 22, 22, 128)       0         \n",
      "_________________________________________________________________\n",
      "flatten_2 (Flatten)          (None, 61952)             0         \n",
      "_________________________________________________________________\n",
      "dense_5 (Dense)              (None, 256)               15859968  \n",
      "_________________________________________________________________\n",
      "batch_normalization_392 (Bat (None, 256)               1024      \n",
      "_________________________________________________________________\n",
      "dense_6 (Dense)              (None, 128)               32896     \n",
      "_________________________________________________________________\n",
      "batch_normalization_393 (Bat (None, 128)               512       \n",
      "_________________________________________________________________\n",
      "dense_7 (Dense)              (None, 64)                8256      \n",
      "_________________________________________________________________\n",
      "batch_normalization_394 (Bat (None, 64)                256       \n",
      "_________________________________________________________________\n",
      "dense_8 (Dense)              (None, 4)                 260       \n",
      "=================================================================\n",
      "Total params: 16,108,868\n",
      "Trainable params: 16,107,140\n",
      "Non-trainable params: 1,728\n",
      "_________________________________________________________________\n",
      "None\n"
     ]
    }
   ],
   "source": [
    "classifier = Sequential()\n",
    "\n",
    "classifier.add(Conv2D(32,(3,3), activation='relu', input_shape=(180, 180, 3), padding=\"same\"))\n",
    "classifier.add(BatchNormalization())\n",
    "classifier.add(MaxPooling2D(pool_size=(2, 2)))\n",
    "#classifier.add(Dropout(0.2))\n",
    "\n",
    "classifier.add(Conv2D(64,(3,3), activation='relu', padding=\"same\"))\n",
    "classifier.add(BatchNormalization())\n",
    "\n",
    "classifier.add(Conv2D(64,(3,3), activation='relu', padding=\"same\"))\n",
    "classifier.add(BatchNormalization())\n",
    "\n",
    "classifier.add(Conv2D(64,(3,3), activation='relu', padding=\"same\"))\n",
    "classifier.add(BatchNormalization())\n",
    "\n",
    "classifier.add(Conv2D(64,(3,3), activation='relu', padding=\"same\"))\n",
    "classifier.add(BatchNormalization())\n",
    "classifier.add(MaxPooling2D(pool_size=(2, 2)))\n",
    "#classifier.add(Dropout(0.2))\n",
    "\n",
    "classifier.add(Conv2D(128,(3,3), activation='relu', padding=\"same\"))\n",
    "classifier.add(BatchNormalization())\n",
    "classifier.add(MaxPooling2D(pool_size=(2, 2)))\n",
    "#classifier.add(Dropout(0.2))\n",
    "\n",
    "\n",
    "classifier.add(Flatten())\n",
    "\n",
    "classifier.add(Dense(256, activation='relu'))\n",
    "classifier.add(BatchNormalization())\n",
    "#classifier.add(Dropout(0.15))\n",
    "\n",
    "classifier.add(Dense(128, activation='relu'))\n",
    "classifier.add(BatchNormalization())\n",
    "#classifier.add(Dropout(0.15))\n",
    "\n",
    "classifier.add(Dense(64, activation='relu'))\n",
    "classifier.add(BatchNormalization())\n",
    "#classifier.add(Dropout(0.15))\n",
    "\n",
    "classifier.add(Dense(4, activation = 'softmax'))\n",
    "\n",
    "opt = Adam(learning_rate=0.01)\n",
    "classifier.compile(optimizer = opt, loss = 'categorical_crossentropy', metrics = ['accuracy'])\n",
    "\n",
    "print(classifier.summary())"
   ]
  },
  {
   "cell_type": "markdown",
   "id": "0f87ef34",
   "metadata": {},
   "source": [
    "# Training Model"
   ]
  },
  {
   "cell_type": "code",
   "execution_count": 35,
   "id": "f01d1330",
   "metadata": {},
   "outputs": [
    {
     "name": "stdout",
     "output_type": "stream",
     "text": [
      "Epoch 1/40\n",
      "171/170 [==============================] - 214s 1s/step - loss: 1.4927 - accuracy: 0.3537 - val_loss: 1.2922 - val_accuracy: 0.4483\n",
      "\n",
      "Epoch 00001: val_accuracy improved from -inf to 0.44828, saving model to D:\\Projects\\Shopping Assistant\\models\\baselineCNN.h5\n",
      "Epoch 2/40\n",
      "171/170 [==============================] - 191s 1s/step - loss: 1.2550 - accuracy: 0.4465 - val_loss: 2.9653 - val_accuracy: 0.2241\n",
      "\n",
      "Epoch 00002: val_accuracy did not improve from 0.44828\n",
      "Epoch 3/40\n",
      "171/170 [==============================] - 193s 1s/step - loss: 1.3199 - accuracy: 0.4254 - val_loss: 1.2971 - val_accuracy: 0.5000\n",
      "\n",
      "Epoch 00003: val_accuracy improved from 0.44828 to 0.50000, saving model to D:\\Projects\\Shopping Assistant\\models\\baselineCNN.h5\n",
      "Epoch 4/40\n",
      "171/170 [==============================] - 195s 1s/step - loss: 1.2641 - accuracy: 0.4524 - val_loss: 1.4710 - val_accuracy: 0.2931\n",
      "\n",
      "Epoch 00004: val_accuracy did not improve from 0.50000\n",
      "Epoch 5/40\n",
      "171/170 [==============================] - 193s 1s/step - loss: 1.2185 - accuracy: 0.4606 - val_loss: 0.8356 - val_accuracy: 0.4483\n",
      "\n",
      "Epoch 00005: val_accuracy did not improve from 0.50000\n",
      "Epoch 6/40\n",
      "171/170 [==============================] - 193s 1s/step - loss: 1.1510 - accuracy: 0.5182 - val_loss: 0.9821 - val_accuracy: 0.5172\n",
      "\n",
      "Epoch 00006: val_accuracy improved from 0.50000 to 0.51724, saving model to D:\\Projects\\Shopping Assistant\\models\\baselineCNN.h5\n",
      "Epoch 7/40\n",
      "171/170 [==============================] - 199s 1s/step - loss: 1.1424 - accuracy: 0.5076 - val_loss: 0.8921 - val_accuracy: 0.7759\n",
      "\n",
      "Epoch 00007: val_accuracy improved from 0.51724 to 0.77586, saving model to D:\\Projects\\Shopping Assistant\\models\\baselineCNN.h5\n",
      "Epoch 8/40\n",
      "171/170 [==============================] - 225s 1s/step - loss: 1.1038 - accuracy: 0.5358 - val_loss: 1.8641 - val_accuracy: 0.5000\n",
      "\n",
      "Epoch 00008: val_accuracy did not improve from 0.77586\n",
      "Epoch 9/40\n",
      "171/170 [==============================] - 204s 1s/step - loss: 1.1951 - accuracy: 0.4712 - val_loss: 0.6423 - val_accuracy: 0.6379\n",
      "\n",
      "Epoch 00009: val_accuracy did not improve from 0.77586\n",
      "Epoch 10/40\n",
      "171/170 [==============================] - 230s 1s/step - loss: 1.1886 - accuracy: 0.4830 - val_loss: 0.2458 - val_accuracy: 0.6552\n",
      "\n",
      "Epoch 00010: val_accuracy did not improve from 0.77586\n",
      "Epoch 11/40\n",
      "171/170 [==============================] - 197s 1s/step - loss: 1.0954 - accuracy: 0.5617 - val_loss: 0.7568 - val_accuracy: 0.7759\n",
      "\n",
      "Epoch 00011: val_accuracy did not improve from 0.77586\n",
      "Epoch 12/40\n",
      "171/170 [==============================] - 228s 1s/step - loss: 1.1059 - accuracy: 0.5382 - val_loss: 1.1020 - val_accuracy: 0.6207\n",
      "\n",
      "Epoch 00012: val_accuracy did not improve from 0.77586\n",
      "Epoch 13/40\n",
      "171/170 [==============================] - 233s 1s/step - loss: 1.1751 - accuracy: 0.4747 - val_loss: 1.9682 - val_accuracy: 0.3966\n",
      "\n",
      "Epoch 00013: val_accuracy did not improve from 0.77586\n",
      "Epoch 14/40\n",
      "171/170 [==============================] - 193s 1s/step - loss: 1.2268 - accuracy: 0.4418 - val_loss: 0.9534 - val_accuracy: 0.6207\n",
      "\n",
      "Epoch 00014: val_accuracy did not improve from 0.77586\n",
      "Epoch 15/40\n",
      "171/170 [==============================] - 252s 1s/step - loss: 1.1526 - accuracy: 0.5076 - val_loss: 0.6848 - val_accuracy: 0.7931\n",
      "\n",
      "Epoch 00015: val_accuracy improved from 0.77586 to 0.79310, saving model to D:\\Projects\\Shopping Assistant\\models\\baselineCNN.h5\n",
      "Epoch 00015: early stopping\n"
     ]
    }
   ],
   "source": [
    "es = EarlyStopping(monitor='val_loss', mode='min', verbose=1, patience=20)\n",
    "mc = ModelCheckpoint(model_dir, monitor='val_accuracy', mode='max', verbose=1, save_best_only=True)\n",
    "history=classifier.fit_generator(\n",
    "        training_set,\n",
    "        steps_per_epoch=851/5, \n",
    "        epochs=40,\n",
    "        validation_data=test_set,\n",
    "        validation_steps=58/5,\n",
    "        callbacks=[es, mc]\n",
    ")"
   ]
  },
  {
   "cell_type": "code",
   "execution_count": 39,
   "id": "4da25320",
   "metadata": {},
   "outputs": [
    {
     "data": {
      "image/png": "[encoded data removed]",
      "text/plain": [
       "<Figure size 432x288 with 1 Axes>"
      ]
     },
     "metadata": {
      "needs_background": "light"
     },
     "output_type": "display_data"
    }
   ],
   "source": [
    "plt.plot(history.history['accuracy'])\n",
    "plt.plot(history.history['val_accuracy'])\n",
    "plt.title('model accuracy')\n",
    "plt.ylabel('accuracy')\n",
    "plt.xlabel('epoch')\n",
    "plt.legend(['train', 'test'], loc='upper left')\n",
    "plt.show()"
   ]
  },
  {
   "cell_type": "code",
   "execution_count": null,
   "id": "4bda14d6",
   "metadata": {},
   "outputs": [],
   "source": []
  },
  {
   "cell_type": "markdown",
   "id": "f1cbbb0b",
   "metadata": {},
   "source": [
    "# Test Image"
   ]
  },
  {
   "cell_type": "code",
   "execution_count": 40,
   "id": "51555e80",
   "metadata": {},
   "outputs": [],
   "source": [
    "test_img_dir = os.path.join(test_dir, 'pizza', '5.jpg')"
   ]
  },
  {
   "cell_type": "markdown",
   "id": "288acc92",
   "metadata": {},
   "source": [
    "# BaseLine Prediction"
   ]
  },
  {
   "cell_type": "code",
   "execution_count": 42,
   "id": "517e3ded",
   "metadata": {},
   "outputs": [
    {
     "name": "stdout",
     "output_type": "stream",
     "text": [
      "Predicted: ice_cream\n"
     ]
    }
   ],
   "source": [
    "classifier = load_model(model_dir)\n",
    "test_img = image.load_img(test_img_dir, target_size = (180, 180))\n",
    "test_img = image.img_to_array(test_img)\n",
    "test_img = np.expand_dims(test_img, axis=0)\n",
    "\n",
    "result = classifier.predict(test_img)\n",
    "BaseLinePred = getLabel(result)\n",
    "print('Predicted:', BaseLinePred)"
   ]
  },
  {
   "cell_type": "markdown",
   "id": "0f00c475",
   "metadata": {},
   "source": [
    "# Resnet50 Prediction"
   ]
  },
  {
   "cell_type": "code",
   "execution_count": 43,
   "id": "80c8f656",
   "metadata": {},
   "outputs": [
    {
     "name": "stdout",
     "output_type": "stream",
     "text": [
      "Predicted: pizza\n"
     ]
    }
   ],
   "source": [
    "from keras.applications.resnet50 import preprocess_input, decode_predictions\n",
    "\n",
    "resnet50 = ResNet50(weights='imagenet')\n",
    "img = image.load_img(test_img_dir, target_size=(224, 224))\n",
    "x = image.img_to_array(img)\n",
    "x = np.expand_dims(x, axis=0)\n",
    "x = preprocess_input(x)\n",
    "\n",
    "ResNetPred = resnet50.predict(x)\n",
    "ResNetPred = decode_predictions(ResNetPred, top=1)[0][0][1]\n",
    "print('Predicted:', ResNetPred)"
   ]
  },
  {
   "cell_type": "markdown",
   "id": "09c8e8f3",
   "metadata": {},
   "source": [
    "# InceptionV3 Prediction"
   ]
  },
  {
   "cell_type": "code",
   "execution_count": 44,
   "id": "203f519d",
   "metadata": {},
   "outputs": [
    {
     "name": "stdout",
     "output_type": "stream",
     "text": [
      "Predicted: pizza\n"
     ]
    }
   ],
   "source": [
    "from keras.applications.inception_v3 import preprocess_input, decode_predictions\n",
    "\n",
    "inceptionV3 = InceptionV3(weights='imagenet')\n",
    "img = image.load_img(test_img_dir, target_size=(299, 299))\n",
    "x = image.img_to_array(img)\n",
    "x = np.expand_dims(x, axis=0)\n",
    "x = preprocess_input(x)\n",
    "\n",
    "InceptionPred = inceptionV3.predict(x)\n",
    "InceptionPred = decode_predictions(InceptionPred, top=1)[0][0][1]\n",
    "print('Predicted:', InceptionPred)"
   ]
  },
  {
   "cell_type": "markdown",
   "id": "1e912a98",
   "metadata": {},
   "source": [
    "# Xception Prediction"
   ]
  },
  {
   "cell_type": "code",
   "execution_count": 45,
   "id": "a8f6809f",
   "metadata": {},
   "outputs": [
    {
     "name": "stdout",
     "output_type": "stream",
     "text": [
      "Predicted: pizza\n"
     ]
    }
   ],
   "source": [
    "from keras.applications.xception import preprocess_input, decode_predictions\n",
    "\n",
    "xception = InceptionV3(weights='imagenet')\n",
    "img = image.load_img(test_img_dir, target_size=(299, 299))\n",
    "x = image.img_to_array(img)\n",
    "x = np.expand_dims(x, axis=0)\n",
    "x = preprocess_input(x)\n",
    "\n",
    "XceptionPred = xception.predict(x)\n",
    "XceptionPred = decode_predictions(XceptionPred, top=1)[0][0][1]\n",
    "print('Predicted:', XceptionPred)"
   ]
  },
  {
   "cell_type": "markdown",
   "id": "a1340a45",
   "metadata": {},
   "source": [
    "# Getting best prediction, groceries and their ids"
   ]
  },
  {
   "cell_type": "code",
   "execution_count": 46,
   "id": "58418dfd",
   "metadata": {},
   "outputs": [
    {
     "name": "stdout",
     "output_type": "stream",
     "text": [
      "Food Item Detected:  pizza\n",
      "Groceries required: \n",
      "1   bread\n",
      "2   tomato\n",
      "3   cheese\n",
      "4   sausage\n",
      "Groceries ids:  [0, 5, 1, 2]\n"
     ]
    }
   ],
   "source": [
    "results = [BaseLinePred, ResNetPred, InceptionPred, XceptionPred]\n",
    "finalPrediction = getFinalLabel(results)\n",
    "groceries = getGroceries(finalPrediction)\n",
    "groceriesLabels = groceries[0]\n",
    "groceriesIds = groceries[1]\n",
    "print('Food Item Detected: ', finalPrediction)\n",
    "print('Groceries required: ')\n",
    "for i in range(4):\n",
    "    print(i+1,' ',groceriesLabels[i])\n",
    "print('Groceries ids: ', groceriesIds)"
   ]
  },
  {
   "cell_type": "markdown",
   "id": "afb45e82",
   "metadata": {},
   "source": [
    "# Pathfinding"
   ]
  },
  {
   "cell_type": "code",
   "execution_count": 47,
   "id": "19e5a5ef",
   "metadata": {},
   "outputs": [],
   "source": [
    "INT_MAX = maxsize\n",
    "def initialise(V):\n",
    "    global dis, Next\n",
    "\n",
    "    for i in range(V):\n",
    "        for j in range(V):\n",
    "            dis[i][j] = graph[i][j]\n",
    "\n",
    "            # No edge between node\n",
    "            # i and j\n",
    "            if (graph[i][j] == INF):\n",
    "                Next[i][j] = -1\n",
    "            else:\n",
    "                Next[i][j] = j"
   ]
  },
  {
   "cell_type": "code",
   "execution_count": 48,
   "id": "3e9354c7",
   "metadata": {},
   "outputs": [],
   "source": [
    "def constructPath(u, v):\n",
    "    global graph, Next\n",
    "\n",
    "    # If there's no path between\n",
    "    # node u and v, simply return\n",
    "    # an empty array\n",
    "    if (Next[u][v] == -1):\n",
    "        return {}\n",
    "\n",
    "    # Storing the path in a vector\n",
    "    path = [u]\n",
    "    while (u != v):\n",
    "        u = Next[u][v]\n",
    "        path.append(u)\n",
    "\n",
    "    return path"
   ]
  },
  {
   "cell_type": "code",
   "execution_count": 49,
   "id": "bdca5d4a",
   "metadata": {},
   "outputs": [],
   "source": [
    "# Standard Floyd Warshall Algorithm\n",
    "# with little modification Now if we find\n",
    "# that dis[i][j] > dis[i][k] + dis[k][j]\n",
    "# then we modify next[i][j] = next[i][k]\n",
    "def floydWarshall(V):\n",
    "    global dist, Next\n",
    "    for k in range(V):\n",
    "        for i in range(V):\n",
    "            for j in range(V):   \n",
    "                # We cannot travel through\n",
    "                # edge that doesn't exist\n",
    "                if (dis[i][k] == INF or dis[k][j] == INF):\n",
    "                    continue\n",
    "                if (dis[i][j] > dis[i][k] + dis[k][j]):\n",
    "                    dis[i][j] = dis[i][k] + dis[k][j]\n",
    "                    Next[i][j] = Next[i][k]"
   ]
  },
  {
   "cell_type": "code",
   "execution_count": 54,
   "id": "373cbecf",
   "metadata": {},
   "outputs": [],
   "source": [
    "# Prthe shortest path\n",
    "def printPath(path):\n",
    "    n = len(path)\n",
    "    for i in range(n - 1):\n",
    "        print(path[i], end=\" -> \")\n",
    "    if n>=1:\n",
    "        print (path[n - 1])"
   ]
  },
  {
   "cell_type": "code",
   "execution_count": 55,
   "id": "0ff65ac4",
   "metadata": {},
   "outputs": [],
   "source": [
    "# Returns true if edge u-v is a valid edge to be\n",
    "# include in MST. An edge is valid if one end is\n",
    "# already included in MST and other is not in MST.\n",
    "def isValidEdge(u, v, inMST):\n",
    "    if u == v:\n",
    "        return False\n",
    "    if inMST[u] == False and inMST[v] == False:\n",
    "        return False\n",
    "    elif inMST[u] == True and inMST[v] == True:\n",
    "        return False\n",
    "    return True"
   ]
  },
  {
   "cell_type": "code",
   "execution_count": 56,
   "id": "4b201666",
   "metadata": {},
   "outputs": [],
   "source": [
    "def primMST(cost):\n",
    "    inMST = [False] * V1\n",
    "\n",
    "    # Include first vertex in MST\n",
    "    inMST[0] = True\n",
    "\n",
    "    # Keep adding edges while number of included\n",
    "    # edges does not become V-1.\n",
    "    edge_count = 0\n",
    "    mincost = 0\n",
    "    while edge_count < V1 - 1:\n",
    "\n",
    "        # Find minimum weight valid edge.\n",
    "        minn = INT_MAX\n",
    "        a = -1\n",
    "        b = -1\n",
    "        for i in range(V1):\n",
    "            for j in range(V1):\n",
    "                if cost[i][j] < minn:\n",
    "                    if isValidEdge(i, j, inMST):\n",
    "                        minn = cost[i][j]\n",
    "                        a = i\n",
    "                        b = j\n",
    "\n",
    "        if a != -1 and b != -1:\n",
    "            print(\"Edge %d: (%d, %d) cost: %d\" %\n",
    "                (edge_count, a, b, minn))\n",
    "            printPath(constructPath(a,b))\n",
    "            edge_count += 1\n",
    "            mincost += minn\n",
    "            inMST[b] = inMST[a] = True\n",
    "            print(\"Minimum cost = %d\" % mincost)"
   ]
  },
  {
   "cell_type": "code",
   "execution_count": 57,
   "id": "9bbe3f7d",
   "metadata": {},
   "outputs": [
    {
     "name": "stdout",
     "output_type": "stream",
     "text": [
      "[[0, -1, 2, 9223372036854775807], [-1, -1, -1, -1], [2, -1, 0, 9223372036854775807], [9223372036854775807, -1, 9223372036854775807, 0]]\n",
      "Edge 0: (0, 1) cost: -1\n",
      "0 -> 1\n",
      "Minimum cost = -1\n",
      "Edge 1: (1, 2) cost: -1\n",
      "Minimum cost = -2\n",
      "Edge 2: (1, 3) cost: -1\n",
      "Minimum cost = -3\n"
     ]
    }
   ],
   "source": [
    "''' Let us create the following graph\n",
    "    2 3\n",
    "(0)--(1)--(2)\n",
    "| / \\ |\n",
    "6| 8/ \\5 |7\n",
    "| /\t \\ |\n",
    "(3)-------(4)\n",
    "        9   '''\n",
    "\n",
    "# Print the solution\n",
    "\n",
    "V=4\n",
    "MAXM,INF = 100,INT_MAX\n",
    "dis = [[-1 for i in range(MAXM)] for i in range(MAXM)]\n",
    "Next = [[-1 for i in range(MAXM)] for i in range(MAXM)]\n",
    "\n",
    "\n",
    "graph = [ \n",
    "    [ 0, 2, INF, INF, INF, 9, INF, INF, INF, INF],\n",
    "    [ 2, 0, INF, INF, 6, INF, 4, INF, INF, INF],\n",
    "    [ INF, INF, 0, INF, 4, INF, 3, INF, 5, INF],\n",
    "    [ INF, INF, INF, 0, 2, 1, INF, INF, INF, 3],\n",
    "    [ INF, 6, 4, 2, 0, INF, INF, INF, INF, INF],\n",
    "    [ 9, INF, INF, 1, INF, 0, INF, 6, INF, INF],\n",
    "    [ INF, 4, 3, INF, INF, INF, 0, INF, INF, INF],\n",
    "    [ INF, INF, INF, INF, INF, 6, INF, 0, INF, 3],\n",
    "    [ INF, INF, 5, INF, INF, INF, INF, INF, 0, 7],\n",
    "    [ INF, INF, INF, 3, INF, INF, INF, 3, 7, 0]\n",
    "]\n",
    "\n",
    "# Function to initialise the\n",
    "# distance and Next array\n",
    "initialise(V)\n",
    "#Calling Floyd Warshall Algorithm,\n",
    "# this will update the shortest\n",
    "# distance as well as Next array\n",
    "floydWarshall(V)\n",
    "required = groceriesIds\n",
    "result= [[-1 for i in range(len(required))] for i in range(len(required))]\n",
    "global V1\n",
    "V1=len(required)\n",
    "for i in range(len(required)):\n",
    "    for j in range(i,len(required)):\n",
    "        result[i][j]=dis[required[i]][required[j]]\n",
    "        result[j][i]=dis[required[j]][required[i]]\n",
    "print(result)\n",
    "primMST(result)"
   ]
  },
  {
   "cell_type": "code",
   "execution_count": null,
   "id": "f353143f",
   "metadata": {},
   "outputs": [],
   "source": []
  }
 ],
 "metadata": {
  "kernelspec": {
   "display_name": "Python 3",
   "language": "python",
   "name": "python3"
  },
  "language_info": {
   "codemirror_mode": {
    "name": "ipython",
    "version": 3
   },
   "file_extension": ".py",
   "mimetype": "text/x-python",
   "name": "python",
   "nbconvert_exporter": "python",
   "pygments_lexer": "ipython3",
   "version": "3.6.13"
  }
 },
 "nbformat": 4,
 "nbformat_minor": 5
}
